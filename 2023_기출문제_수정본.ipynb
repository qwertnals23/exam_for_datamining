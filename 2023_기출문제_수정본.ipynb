{
 "cells": [
  {
   "cell_type": "markdown",
   "metadata": {},
   "source": [
    "# 2023년 데이터마이닝 기출문제 - 완성 버전\n",
    "## 문제 1: Spotify 데이터 회귀 분석 (45점)"
   ]
  },
  {
   "cell_type": "markdown",
   "metadata": {},
   "source": [
    "### 필요한 라이브러리 import"
   ]
  },
  {
   "cell_type": "code",
   "execution_count": null,
   "metadata": {},
   "outputs": [],
   "source": [
    "import pandas as pd\n",
    "import numpy as np\n",
    "import math\n",
    "from sklearn.linear_model import Ridge, Lasso, ElasticNet, LinearRegression\n",
    "from sklearn.model_selection import cross_val_score, GridSearchCV, RandomizedSearchCV\n",
    "from sklearn.metrics import mean_absolute_error, mean_squared_error, r2_score\n",
    "from sklearn.preprocessing import StandardScaler"
   ]
  },
  {
   "cell_type": "markdown",
   "metadata": {},
   "source": [
    "### 데이터 로딩 및 확인"
   ]
  },
  {
   "cell_type": "code",
   "execution_count": null,
   "metadata": {},
   "outputs": [],
   "source": [
    "spotify_df = pd.read_csv('spotify-2023-2.csv')\n",
    "print(\"[데이터 정보]\")\n",
    "spotify_df.info()\n",
    "\n",
    "print(\"\\n[결측치 확인]\")\n",
    "print(spotify_df.isnull().sum())\n",
    "\n",
    "print(\"\\n[데이터 샘플]\")\n",
    "print(spotify_df.head())"
   ]
  },
  {
   "cell_type": "markdown",
   "metadata": {},
   "source": [
    "### (1) 독립변수/종속변수 분리"
   ]
  },
  {
   "cell_type": "code",
   "execution_count": null,
   "metadata": {},
   "outputs": [],
   "source": [
    "# 범주형 변수 변환\n",
    "spotify_df['released_year'] = spotify_df['released_year'].astype('category')\n",
    "spotify_df['released_month'] = spotify_df['released_month'].astype('category')\n",
    "\n",
    "# 종속변수: streams\n",
    "outcome = 'streams'\n",
    "\n",
    "# 독립변수: streams, key, track_name, artist(s)_name, in_spotify_charts 제외\n",
    "predictors = [col for col in spotify_df.columns \n",
    "              if col not in ['streams', 'key', 'track_name', 'artist(s)_name', 'in_spotify_charts']]\n",
    "\n",
    "X = spotify_df[predictors]\n",
    "y = spotify_df[outcome]\n",
    "\n",
    "# 원-핫 인코딩\n",
    "X = pd.get_dummies(X, drop_first=False)\n",
    "\n",
    "print(f\"독립변수 개수: {X.shape[1]}\")\n",
    "print(f\"데이터 크기: {X.shape}\")\n",
    "print(f\"\\n변수 목록 (처음 10개):\\n{X.columns.tolist()[:10]}\")"
   ]
  },
  {
   "cell_type": "markdown",
   "metadata": {},
   "source": [
    "### (2) 학습/테스트 데이터 분리 (0~899: 학습, 900~: 테스트)"
   ]
  },
  {
   "cell_type": "code",
   "execution_count": null,
   "metadata": {},
   "outputs": [],
   "source": [
    "# 학습: 0~899행, 테스트: 900행~\n",
    "X_train = X.iloc[:900]\n",
    "y_train = y.iloc[:900]\n",
    "X_test = X.iloc[900:]\n",
    "y_test = y.iloc[900:]\n",
    "\n",
    "print(f\"총 데이터 수: {len(X)}\")\n",
    "print(f\"학습 데이터 (Train): {len(X_train)} 행\")\n",
    "print(f\"테스트 데이터 (Test): {len(X_test)} 행\")"
   ]
  },
  {
   "cell_type": "markdown",
   "metadata": {},
   "source": [
    "### (3) 각 모델 생성 및 RMSE 측정"
   ]
  },
  {
   "cell_type": "code",
   "execution_count": null,
   "metadata": {},
   "outputs": [],
   "source": [
    "results = {}\n",
    "\n",
    "# 1) 선형회귀\n",
    "print(\"[1] 선형회귀 (Linear Regression)\")\n",
    "lr_model = LinearRegression()\n",
    "lr_model.fit(X_train, y_train)\n",
    "lr_pred = lr_model.predict(X_test)\n",
    "lr_mse = mean_squared_error(y_test, lr_pred)\n",
    "lr_rmse = math.sqrt(lr_mse)\n",
    "results['Linear Regression'] = lr_rmse\n",
    "print(f\"   RMSE: {lr_rmse:,.2f}\")"
   ]
  },
  {
   "cell_type": "code",
   "execution_count": null,
   "metadata": {},
   "outputs": [],
   "source": [
    "# 2) Ridge\n",
    "print(\"[2] Ridge Regression\")\n",
    "ridge_model = Ridge(alpha=1.0, random_state=42)\n",
    "ridge_model.fit(X_train, y_train)\n",
    "ridge_pred = ridge_model.predict(X_test)\n",
    "ridge_mse = mean_squared_error(y_test, ridge_pred)\n",
    "ridge_rmse = math.sqrt(ridge_mse)\n",
    "results['Ridge'] = ridge_rmse\n",
    "print(f\"   RMSE: {ridge_rmse:,.2f}\")"
   ]
  },
  {
   "cell_type": "code",
   "execution_count": null,
   "metadata": {},
   "outputs": [],
   "source": [
    "# 3) Lasso\n",
    "print(\"[3] Lasso Regression\")\n",
    "lasso_model = Lasso(alpha=1.0, random_state=42, max_iter=10000)\n",
    "lasso_model.fit(X_train, y_train)\n",
    "lasso_pred = lasso_model.predict(X_test)\n",
    "lasso_mse = mean_squared_error(y_test, lasso_pred)\n",
    "lasso_rmse = math.sqrt(lasso_mse)\n",
    "results['Lasso'] = lasso_rmse\n",
    "print(f\"   RMSE: {lasso_rmse:,.2f}\")"
   ]
  },
  {
   "cell_type": "code",
   "execution_count": null,
   "metadata": {},
   "outputs": [],
   "source": [
    "# 4) ElasticNet\n",
    "print(\"[4] ElasticNet Regression\")\n",
    "elastic_model = ElasticNet(alpha=1.0, l1_ratio=0.5, random_state=42, max_iter=10000)\n",
    "elastic_model.fit(X_train, y_train)\n",
    "elastic_pred = elastic_model.predict(X_test)\n",
    "elastic_mse = mean_squared_error(y_test, elastic_pred)\n",
    "elastic_rmse = math.sqrt(elastic_mse)\n",
    "results['ElasticNet'] = elastic_rmse\n",
    "print(f\"   RMSE: {elastic_rmse:,.2f}\")"
   ]
  },
  {
   "cell_type": "code",
   "execution_count": null,
   "metadata": {},
   "outputs": [],
   "source": [
    "# 모델별 RMSE 요약\n",
    "print(\"\\n[모델별 RMSE 요약]\")\n",
    "for model_name, rmse in results.items():\n",
    "    print(f\"  {model_name:20s}: {rmse:,.2f}\")"
   ]
  },
  {
   "cell_type": "markdown",
   "metadata": {},
   "source": [
    "### (4) 하이퍼파라미터 튜닝 - Lasso 최적화"
   ]
  },
  {
   "cell_type": "code",
   "execution_count": null,
   "metadata": {},
   "outputs": [],
   "source": [
    "# Lasso 튜닝 (GridSearchCV)\n",
    "lasso_tuner = Lasso(random_state=42, max_iter=10000)\n",
    "\n",
    "param_grid = {\n",
    "    'alpha': np.logspace(-4, 0, 50)  # 0.0001부터 1.0까지\n",
    "}\n",
    "\n",
    "grid_search = GridSearchCV(\n",
    "    lasso_tuner,\n",
    "    param_grid,\n",
    "    cv=5,\n",
    "    scoring='neg_mean_squared_error',\n",
    "    n_jobs=-1,\n",
    "    verbose=0\n",
    ")\n",
    "\n",
    "print(\"튜닝 진행 중...\")\n",
    "grid_search.fit(X_train, y_train)\n",
    "\n",
    "best_alpha = grid_search.best_params_['alpha']\n",
    "best_mse = -grid_search.best_score_\n",
    "best_rmse = math.sqrt(best_mse)\n",
    "\n",
    "print(f\"\\n**[튜닝 결과]**\")\n",
    "print(f\"최적의 Alpha: {best_alpha:.6f}\")\n",
    "print(f\"최고 CV RMSE: {best_rmse:,.2f}\")\n",
    "\n",
    "# 최적 모델로 테스트 데이터 예측\n",
    "best_model = grid_search.best_estimator_\n",
    "best_pred = best_model.predict(X_test)\n",
    "best_test_mse = mean_squared_error(y_test, best_pred)\n",
    "best_test_rmse = math.sqrt(best_test_mse)\n",
    "\n",
    "print(f\"\\n**[최종 성과]**\")\n",
    "print(f\"최적 튜닝 모델의 Test RMSE: {best_test_rmse:,.2f}\")\n",
    "\n",
    "# 0이 아닌 계수 확인\n",
    "coef_df = pd.DataFrame({\n",
    "    'Variable': X.columns,\n",
    "    'Coefficient': best_model.coef_\n",
    "})\n",
    "non_zero = coef_df[coef_df['Coefficient'] != 0]\n",
    "print(f\"\\n0이 아닌 계수 개수: {len(non_zero)} / {len(coef_df)}\")"
   ]
  },
  {
   "cell_type": "markdown",
   "metadata": {},
   "source": [
    "---\n",
    "## 문제 2: Airline 만족도 분류 (50점)"
   ]
  },
  {
   "cell_type": "markdown",
   "metadata": {},
   "source": [
    "### 필요한 라이브러리 import"
   ]
  },
  {
   "cell_type": "code",
   "execution_count": null,
   "metadata": {},
   "outputs": [],
   "source": [
    "from sklearn.tree import DecisionTreeClassifier\n",
    "from sklearn.linear_model import LogisticRegression\n",
    "from sklearn.metrics import roc_auc_score, accuracy_score\n",
    "from sklearn.model_selection import train_test_split"
   ]
  },
  {
   "cell_type": "markdown",
   "metadata": {},
   "source": [
    "### 데이터 로딩 및 확인"
   ]
  },
  {
   "cell_type": "code",
   "execution_count": null,
   "metadata": {},
   "outputs": [],
   "source": [
    "airline_df = pd.read_csv('airline.csv')\n",
    "print(\"[데이터 정보]\")\n",
    "airline_df.info()\n",
    "\n",
    "print(\"\\n[결측치 확인]\")\n",
    "print(airline_df.isnull().sum())\n",
    "\n",
    "print(\"\\n[데이터 샘플]\")\n",
    "print(airline_df.head())"
   ]
  },
  {
   "cell_type": "markdown",
   "metadata": {},
   "source": [
    "### (1) 불필요한 변수 제거\n",
    "예: ID, Unnamed 등 불필요한 컬럼 제거"
   ]
  },
  {
   "cell_type": "markdown",
   "metadata": {},
   "source": [
    "### (2) 독립변수/종속변수 분리 및 원-핫 인코딩"
   ]
  },
  {
   "cell_type": "code",
   "execution_count": null,
   "metadata": {},
   "outputs": [],
   "source": [
    "outcome = 'Satisfaction'\n",
    "predictors = [col for col in airline_df.columns if col not in ['Satisfaction']]\n",
    "\n",
    "X = airline_df[predictors]\n",
    "y = airline_df[outcome]\n",
    "\n",
    "# 원-핫 인코딩\n",
    "X = pd.get_dummies(X, drop_first=False)\n",
    "\n",
    "print(f\"독립변수 개수: {X.shape[1]}\")\n",
    "print(f\"데이터 크기: {X.shape}\")\n",
    "\n",
    "# 학습/검증 데이터 분리 (70:30)\n",
    "X_train, X_valid, y_train, y_valid = train_test_split(\n",
    "    X, y, test_size=0.3, random_state=1, stratify=y\n",
    ")\n",
    "\n",
    "print(f\"\\n학습 데이터: {len(X_train)} 행\")\n",
    "print(f\"검증 데이터: {len(X_valid)} 행\")"
   ]
  },
  {
   "cell_type": "markdown",
   "metadata": {},
   "source": [
    "### (3) 의사결정나무 모델 생성 및 5-Fold CV (AUC)"
   ]
  },
  {
   "cell_type": "code",
   "execution_count": null,
   "metadata": {},
   "outputs": [],
   "source": [
    "tree_full = DecisionTreeClassifier(criterion='entropy', random_state=1)\n",
    "tree_full.fit(X_train, y_train)\n",
    "\n",
    "# 5-Fold 교차검증\n",
    "scores = cross_val_score(tree_full, X, y, cv=5, scoring='roc_auc')\n",
    "print(f\"5-Fold CV ROC AUC: {scores.mean():.4f} (±{scores.std():.4f})\")"
   ]
  },
  {
   "cell_type": "markdown",
   "metadata": {},
   "source": [
    "### (4) max_depth 최적값 찾기"
   ]
  },
  {
   "cell_type": "code",
   "execution_count": null,
   "metadata": {},
   "outputs": [],
   "source": [
    "depths = range(2, 21)\n",
    "cv_scores = []\n",
    "\n",
    "for depth in depths:\n",
    "    tree = DecisionTreeClassifier(max_depth=depth, criterion='entropy', random_state=1)\n",
    "    scores = cross_val_score(tree, X, y, cv=5, scoring='roc_auc')\n",
    "    cv_scores.append(scores.mean())\n",
    "\n",
    "# 최적 depth 찾기\n",
    "best_depth_idx = np.argmax(cv_scores)\n",
    "best_depth = list(depths)[best_depth_idx]\n",
    "best_score = cv_scores[best_depth_idx]\n",
    "\n",
    "print(f\"최적 max_depth: {best_depth}\")\n",
    "print(f\"최고 CV AUC: {best_score:.4f}\")"
   ]
  },
  {
   "cell_type": "markdown",
   "metadata": {},
   "source": [
    "### (5) 최적 depth로 모델 생성 및 5-Fold CV"
   ]
  },
  {
   "cell_type": "code",
   "execution_count": null,
   "metadata": {},
   "outputs": [],
   "source": [
    "tree_optimal = DecisionTreeClassifier(\n",
    "    criterion='entropy',\n",
    "    max_depth=best_depth,\n",
    "    random_state=1\n",
    ")\n",
    "tree_optimal.fit(X_train, y_train)\n",
    "\n",
    "# 5-Fold 교차검증\n",
    "scores_optimal = cross_val_score(tree_optimal, X, y, cv=5, scoring='roc_auc')\n",
    "print(f\"5-Fold CV ROC AUC: {scores_optimal.mean():.4f} (±{scores_optimal.std():.4f})\")"
   ]
  },
  {
   "cell_type": "markdown",
   "metadata": {},
   "source": [
    "### (6) 변수 중요도 확인 및 Top 10 선택"
   ]
  },
  {
   "cell_type": "code",
   "execution_count": null,
   "metadata": {},
   "outputs": [],
   "source": [
    "importance = tree_optimal.feature_importances_\n",
    "feature_importance_df = pd.DataFrame({\n",
    "    'Feature': X.columns,\n",
    "    'Importance': importance\n",
    "}).sort_values(by='Importance', ascending=False)\n",
    "\n",
    "print(\"[상위 10개 중요 변수]\")\n",
    "top_10_features = feature_importance_df.head(10)['Feature'].tolist()\n",
    "print(feature_importance_df.head(10))"
   ]
  },
  {
   "cell_type": "markdown",
   "metadata": {},
   "source": [
    "### (7) 로지스틱 회귀 - Top 10 변수만 사용"
   ]
  },
  {
   "cell_type": "code",
   "execution_count": null,
   "metadata": {},
   "outputs": [],
   "source": [
    "logreg_model = LogisticRegression(\n",
    "    random_state=42,\n",
    "    solver='liblinear',\n",
    "    max_iter=1000\n",
    ")\n",
    "\n",
    "# 5-Fold 교차검증\n",
    "auc_scores_logreg = cross_val_score(\n",
    "    logreg_model,\n",
    "    X[top_10_features],\n",
    "    y,\n",
    "    cv=5,\n",
    "    scoring='roc_auc'\n",
    ")\n",
    "\n",
    "print(f\"[로지스틱 회귀 (Top 10 변수) 5-Fold AUC]: {auc_scores_logreg.mean():.4f}\")"
   ]
  },
  {
   "cell_type": "markdown",
   "metadata": {},
   "source": [
    "### (8) 모델 성과 비교"
   ]
  },
  {
   "cell_type": "code",
   "execution_count": null,
   "metadata": {},
   "outputs": [],
   "source": [
    "print(\"\\n[모델 성과 비교]\")\n",
    "print(f\"의사결정나무 (최적 depth={best_depth}): {scores_optimal.mean():.4f}\")\n",
    "print(f\"로지스틱 회귀 (Top 10 변수):          {auc_scores_logreg.mean():.4f}\")\n",
    "\n",
    "if scores_optimal.mean() > auc_scores_logreg.mean():\n",
    "    print(f\"\\n결론: 의사결정나무가 더 우수한 성과를 보임 (차이: {scores_optimal.mean() - auc_scores_logreg.mean():.4f})\")\n",
    "else:\n",
    "    print(f\"\\n결론: 로지스틱 회귀가 더 우수한 성과를 보임 (차이: {auc_scores_logreg.mean() - scores_optimal.mean():.4f})\")"
   ]
  }
 ],
 "metadata": {
  "kernelspec": {
   "display_name": "Python 3",
   "language": "python",
   "name": "python3"
  },
  "language_info": {
   "codemirror_mode": {
    "name": "ipython",
    "version": 3
   },
   "file_extension": ".py",
   "mimetype": "text/x-python",
   "name": "python",
   "nbconvert_exporter": "python",
   "pygments_lexer": "ipython3",
   "version": "3.8.0"
  }
 },
 "nbformat": 4,
 "nbformat_minor": 4
}
