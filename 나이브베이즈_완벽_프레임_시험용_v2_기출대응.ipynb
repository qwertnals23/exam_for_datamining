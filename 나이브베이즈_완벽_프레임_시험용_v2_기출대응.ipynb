{
 "cells": [
  {
   "cell_type": "markdown",
   "metadata": {},
   "source": [
    "# 나이브 베이즈 완벽 프레임 - 시험용 v2 📊\n",
    "## 모든 기출 유형 대응 가능! (F1 Score, ROC AUC, Accuracy 모두 포함)"
   ]
  },
  {
   "cell_type": "markdown",
   "metadata": {},
   "source": [
    "## 1. 필수 라이브러리 Import"
   ]
  },
  {
   "cell_type": "code",
   "execution_count": null,
   "metadata": {},
   "outputs": [],
   "source": [
    "import pandas as pd\n",
    "import numpy as np\n",
    "from sklearn.model_selection import train_test_split, cross_val_score, GridSearchCV\n",
    "from sklearn.naive_bayes import MultinomialNB, GaussianNB, BernoulliNB\n",
    "from sklearn.preprocessing import StandardScaler, MinMaxScaler\n",
    "from sklearn.metrics import (\n",
    "    accuracy_score, precision_score, recall_score, f1_score,\n",
    "    confusion_matrix, classification_report, roc_auc_score, roc_curve\n",
    ")\n",
    "from sklearn.linear_model import LogisticRegression\n",
    "import matplotlib.pyplot as plt\n",
    "import seaborn as sns\n",
    "\n",
    "# dmba 라이브러리 (있으면)\n",
    "try:\n",
    "    from dmba import classificationSummary\n",
    "    HAS_DMBA = True\n",
    "except:\n",
    "    HAS_DMBA = False\n",
    "    print(\"dmba 라이브러리가 없습니다. 기본 지표만 사용합니다.\")"
   ]
  },
  {
   "cell_type": "markdown",
   "metadata": {},
   "source": [
    "## 2. 데이터 로드 및 탐색"
   ]
  },
  {
   "cell_type": "code",
   "execution_count": null,
   "metadata": {},
   "outputs": [],
   "source": [
    "# 데이터 로드 (⭐ 파일명 수정 필수!)\n",
    "df = pd.read_csv('데이터파일.csv')\n",
    "\n",
    "print(\"[데이터 정보]\")\n",
    "df.info()\n",
    "\n",
    "print(\"\\n[결측치 확인]\")\n",
    "print(df.isnull().sum())\n",
    "\n",
    "print(\"\\n[데이터 샘플]\")\n",
    "print(df.head())"
   ]
  },
  {
   "cell_type": "code",
   "execution_count": null,
   "metadata": {},
   "outputs": [],
   "source": [
    "# 변수 타입 자동 분류\n",
    "print(\"[변수 타입 분류]\")\n",
    "categorical_cols = df.select_dtypes(include=['object', 'category']).columns.tolist()\n",
    "numerical_cols = df.select_dtypes(include=['int64', 'float64']).columns.tolist()\n",
    "\n",
    "print(f\"범주형 변수 ({len(categorical_cols)}개): {categorical_cols}\")\n",
    "print(f\"수치형 변수 ({len(numerical_cols)}개): {numerical_cols}\")"
   ]
  },
  {
   "cell_type": "markdown",
   "metadata": {},
   "source": [
    "## 3. 데이터 전처리"
   ]
  },
  {
   "cell_type": "code",
   "execution_count": null,
   "metadata": {},
   "outputs": [],
   "source": [
    "# 목표변수를 범주형으로 변환 (필요시)\n",
    "# df['목표변수'] = df['목표변수'].astype('category')\n",
    "\n",
    "# 독립변수/종속변수 분리 (⭐ 여기 수정 필수!)\n",
    "outcome = '목표변수'  # ← 종속변수 이름 입력\n",
    "predictors = [col for col in df.columns \n",
    "              if col not in [outcome, '제외할변수1', '제외할변수2']]\n",
    "\n",
    "X = df[predictors]\n",
    "y = df[outcome]\n",
    "\n",
    "print(f\"독립변수 개수: {len(predictors)}\")\n",
    "print(f\"데이터 크기: {X.shape}\")\n",
    "print(f\"\\n목표변수 분포:\\n{y.value_counts()}\")"
   ]
  },
  {
   "cell_type": "code",
   "execution_count": null,
   "metadata": {},
   "outputs": [],
   "source": [
    "# 나이브 베이즈 종류별 전처리 방법\n",
    "print(\"\\n[나이브 베이즈 3가지 유형]\")\n",
    "print(\"1. MultinomialNB: 카운트/빈도 데이터 (음수 불가, 정수 추천)\")\n",
    "print(\"2. GaussianNB: 연속형 데이터 (정규분포 가정)\")\n",
    "print(\"3. BernoulliNB: 이진 데이터 (0/1)\")\n",
    "print(\"\\n⭐ 데이터 특성에 맞게 모델 선택!\")"
   ]
  },
  {
   "cell_type": "markdown",
   "metadata": {},
   "source": [
    "## 4. 전처리 - MultinomialNB용 (카운트/빈도 데이터)"
   ]
  },
  {
   "cell_type": "code",
   "execution_count": null,
   "metadata": {},
   "outputs": [],
   "source": [
    "# MultinomialNB는 음수 값을 허용하지 않음\n",
    "# 방법 1: 원-핫 인코딩 (drop_first=False 권장)\n",
    "X_multi = pd.get_dummies(X, drop_first=False)\n",
    "\n",
    "# 방법 2: 수치형 변수가 음수면 MinMaxScaler 사용\n",
    "# scaler = MinMaxScaler()\n",
    "# X_multi[numerical_cols] = scaler.fit_transform(X_multi[numerical_cols])\n",
    "\n",
    "print(f\"MultinomialNB용 변수 개수: {X_multi.shape[1]}\")\n",
    "print(f\"변수 목록 (처음 10개): {X_multi.columns.tolist()[:10]}\")"
   ]
  },
  {
   "cell_type": "markdown",
   "metadata": {},
   "source": [
    "## 5. 전처리 - GaussianNB용 (연속형 데이터)"
   ]
  },
  {
   "cell_type": "code",
   "execution_count": null,
   "metadata": {},
   "outputs": [],
   "source": [
    "# GaussianNB는 표준화 권장 (선택사항)\n",
    "X_gauss = pd.get_dummies(X, drop_first=False)\n",
    "\n",
    "# 수치형 변수 표준화\n",
    "numerical_features = X_gauss.select_dtypes(include=['int64', 'float64']).columns.tolist()\n",
    "if len(numerical_features) > 0:\n",
    "    scaler = StandardScaler()\n",
    "    X_gauss[numerical_features] = scaler.fit_transform(X_gauss[numerical_features])\n",
    "    print(f\"표준화된 수치형 변수: {len(numerical_features)}개\")\n",
    "\n",
    "print(f\"GaussianNB용 변수 개수: {X_gauss.shape[1]}\")"
   ]
  },
  {
   "cell_type": "markdown",
   "metadata": {},
   "source": [
    "## 6. 데이터 분리"
   ]
  },
  {
   "cell_type": "code",
   "execution_count": null,
   "metadata": {},
   "outputs": [],
   "source": [
    "# 방법 1: train_test_split 사용 (일반적)\n",
    "# MultinomialNB용\n",
    "train_X_multi, valid_X_multi, train_y, valid_y = train_test_split(\n",
    "    X_multi, y, test_size=0.3, random_state=1, stratify=y\n",
    ")\n",
    "\n",
    "# GaussianNB용 (같은 분할 사용)\n",
    "train_X_gauss, valid_X_gauss = X_gauss.iloc[train_X_multi.index], X_gauss.iloc[valid_X_multi.index]\n",
    "\n",
    "print(f\"학습 데이터: {train_X_multi.shape}\")\n",
    "print(f\"검증 데이터: {valid_X_multi.shape}\")\n",
    "print(f\"\\n학습 데이터 클래스 분포:\\n{train_y.value_counts()}\")"
   ]
  },
  {
   "cell_type": "code",
   "execution_count": null,
   "metadata": {},
   "outputs": [],
   "source": [
    "# 방법 2: 인덱스 기반 분리 (기출문제 스타일)\n",
    "# 예: \"0~1999번까지 학습, 2000번~ 테스트\"\n",
    "\n",
    "# train_X_multi = X_multi.iloc[:2000]\n",
    "# train_X_gauss = X_gauss.iloc[:2000]\n",
    "# train_y = y.iloc[:2000]\n",
    "# valid_X_multi = X_multi.iloc[2000:]\n",
    "# valid_X_gauss = X_gauss.iloc[2000:]\n",
    "# valid_y = y.iloc[2000:]\n",
    "\n",
    "# print(f\"학습 데이터: {train_X_multi.shape}\")\n",
    "# print(f\"검증 데이터: {valid_X_multi.shape}\")"
   ]
  },
  {
   "cell_type": "markdown",
   "metadata": {},
   "source": [
    "## 7. MultinomialNB - 기본 모델"
   ]
  },
  {
   "cell_type": "code",
   "execution_count": null,
   "metadata": {},
   "outputs": [],
   "source": [
    "print(\"=\"*60)\n",
    "print(\"MultinomialNB - 기본 모델 (alpha=1.0)\")\n",
    "print(\"=\"*60)\n",
    "\n",
    "# 모델 생성 (alpha는 라플라스 스무딩)\n",
    "nb_multi = MultinomialNB(alpha=1.0)\n",
    "nb_multi.fit(train_X_multi, train_y)\n",
    "\n",
    "# 예측\n",
    "pred_train_y = nb_multi.predict(train_X_multi)\n",
    "pred_valid_y = nb_multi.predict(valid_X_multi)\n",
    "\n",
    "# 성과 측정\n",
    "print(\"\\n[학습 데이터 성과]\")\n",
    "if HAS_DMBA:\n",
    "    classificationSummary(train_y, pred_train_y, class_names=nb_multi.classes_)\n",
    "else:\n",
    "    print(f\"Accuracy:  {accuracy_score(train_y, pred_train_y):.4f}\")\n",
    "    print(f\"Precision: {precision_score(train_y, pred_train_y, average='weighted'):.4f}\")\n",
    "    print(f\"Recall:    {recall_score(train_y, pred_train_y, average='weighted'):.4f}\")\n",
    "    print(f\"F1-Score:  {f1_score(train_y, pred_train_y, average='weighted'):.4f}\")\n",
    "\n",
    "print(\"\\n[검증 데이터 성과]\")\n",
    "if HAS_DMBA:\n",
    "    classificationSummary(valid_y, pred_valid_y, class_names=nb_multi.classes_)\n",
    "else:\n",
    "    print(f\"Accuracy:  {accuracy_score(valid_y, pred_valid_y):.4f}\")\n",
    "    print(f\"Precision: {precision_score(valid_y, pred_valid_y, average='weighted'):.4f}\")\n",
    "    print(f\"Recall:    {recall_score(valid_y, pred_valid_y, average='weighted'):.4f}\")\n",
    "    print(f\"F1-Score:  {f1_score(valid_y, pred_valid_y, average='weighted'):.4f}\")"
   ]
  },
  {
   "cell_type": "code",
   "execution_count": null,
   "metadata": {},
   "outputs": [],
   "source": [
    "# 🎯 기출 대응: 다양한 평가 지표로 교차검증\n",
    "print(\"\\n\" + \"=\"*60)\n",
    "print(\"📊 5-Fold 교차검증 (다양한 평가 지표)\")\n",
    "print(\"=\"*60)\n",
    "\n",
    "# Accuracy\n",
    "scores_acc = cross_val_score(nb_multi, X_multi, y, cv=5, scoring='accuracy')\n",
    "print(f\"\\n✅ 5-Fold CV Accuracy: {scores_acc.mean():.4f} (±{scores_acc.std():.4f})\")\n",
    "\n",
    "# F1 Score (기출에 자주 나옴!)\n",
    "if len(np.unique(y)) == 2:\n",
    "    scores_f1 = cross_val_score(nb_multi, X_multi, y, cv=5, scoring='f1')\n",
    "    print(f\"✅ 5-Fold CV F1 Score: {scores_f1.mean():.4f} (±{scores_f1.std():.4f})\")\n",
    "else:\n",
    "    scores_f1 = cross_val_score(nb_multi, X_multi, y, cv=5, scoring='f1_weighted')\n",
    "    print(f\"✅ 5-Fold CV F1 Score (weighted): {scores_f1.mean():.4f} (±{scores_f1.std():.4f})\")\n",
    "\n",
    "# ROC AUC (이진 분류인 경우)\n",
    "if len(np.unique(y)) == 2:\n",
    "    scores_auc = cross_val_score(nb_multi, X_multi, y, cv=5, scoring='roc_auc')\n",
    "    print(f\"✅ 5-Fold CV ROC AUC: {scores_auc.mean():.4f} (±{scores_auc.std():.4f})\")"
   ]
  },
  {
   "cell_type": "markdown",
   "metadata": {},
   "source": [
    "## 8. GaussianNB - 기본 모델"
   ]
  },
  {
   "cell_type": "code",
   "execution_count": null,
   "metadata": {},
   "outputs": [],
   "source": [
    "print(\"=\"*60)\n",
    "print(\"GaussianNB - 기본 모델\")\n",
    "print(\"=\"*60)\n",
    "\n",
    "# 모델 생성\n",
    "nb_gauss = GaussianNB()\n",
    "nb_gauss.fit(train_X_gauss, train_y)\n",
    "\n",
    "# 예측\n",
    "pred_train_y = nb_gauss.predict(train_X_gauss)\n",
    "pred_valid_y = nb_gauss.predict(valid_X_gauss)\n",
    "\n",
    "# 성과 측정\n",
    "print(\"\\n[학습 데이터 성과]\")\n",
    "if HAS_DMBA:\n",
    "    classificationSummary(train_y, pred_train_y, class_names=nb_gauss.classes_)\n",
    "else:\n",
    "    print(f\"Accuracy:  {accuracy_score(train_y, pred_train_y):.4f}\")\n",
    "    print(f\"Precision: {precision_score(train_y, pred_train_y, average='weighted'):.4f}\")\n",
    "    print(f\"Recall:    {recall_score(train_y, pred_train_y, average='weighted'):.4f}\")\n",
    "    print(f\"F1-Score:  {f1_score(train_y, pred_train_y, average='weighted'):.4f}\")\n",
    "\n",
    "print(\"\\n[검증 데이터 성과]\")\n",
    "if HAS_DMBA:\n",
    "    classificationSummary(valid_y, pred_valid_y, class_names=nb_gauss.classes_)\n",
    "else:\n",
    "    print(f\"Accuracy:  {accuracy_score(valid_y, pred_valid_y):.4f}\")\n",
    "    print(f\"Precision: {precision_score(valid_y, pred_valid_y, average='weighted'):.4f}\")\n",
    "    print(f\"Recall:    {recall_score(valid_y, pred_valid_y, average='weighted'):.4f}\")\n",
    "    print(f\"F1-Score:  {f1_score(valid_y, pred_valid_y, average='weighted'):.4f}\")"
   ]
  },
  {
   "cell_type": "code",
   "execution_count": null,
   "metadata": {},
   "outputs": [],
   "source": [
    "# 🎯 기출 대응: 다양한 평가 지표로 교차검증\n",
    "print(\"\\n\" + \"=\"*60)\n",
    "print(\"📊 5-Fold 교차검증 (다양한 평가 지표)\")\n",
    "print(\"=\"*60)\n",
    "\n",
    "# Accuracy\n",
    "scores_acc = cross_val_score(nb_gauss, X_gauss, y, cv=5, scoring='accuracy')\n",
    "print(f\"\\n✅ 5-Fold CV Accuracy: {scores_acc.mean():.4f} (±{scores_acc.std():.4f})\")\n",
    "\n",
    "# F1 Score\n",
    "if len(np.unique(y)) == 2:\n",
    "    scores_f1_gauss = cross_val_score(nb_gauss, X_gauss, y, cv=5, scoring='f1')\n",
    "    print(f\"✅ 5-Fold CV F1 Score: {scores_f1_gauss.mean():.4f} (±{scores_f1_gauss.std():.4f})\")\n",
    "else:\n",
    "    scores_f1_gauss = cross_val_score(nb_gauss, X_gauss, y, cv=5, scoring='f1_weighted')\n",
    "    print(f\"✅ 5-Fold CV F1 Score (weighted): {scores_f1_gauss.mean():.4f} (±{scores_f1_gauss.std():.4f})\")\n",
    "\n",
    "# ROC AUC (이진 분류인 경우)\n",
    "if len(np.unique(y)) == 2:\n",
    "    scores_auc_gauss = cross_val_score(nb_gauss, X_gauss, y, cv=5, scoring='roc_auc')\n",
    "    print(f\"✅ 5-Fold CV ROC AUC: {scores_auc_gauss.mean():.4f} (±{scores_auc_gauss.std():.4f})\")"
   ]
  },
  {
   "cell_type": "markdown",
   "metadata": {},
   "source": [
    "## 9. MultinomialNB alpha 튜닝"
   ]
  },
  {
   "cell_type": "code",
   "execution_count": null,
   "metadata": {},
   "outputs": [],
   "source": [
    "# alpha 값에 따른 성능 변화\n",
    "alphas = [0.001, 0.01, 0.1, 0.5, 1.0, 2.0, 5.0, 10.0]\n",
    "train_scores = []\n",
    "valid_scores = []\n",
    "cv_scores = []\n",
    "\n",
    "# 기출에서 자주 쓰는 지표 선택 (F1 Score 또는 ROC AUC)\n",
    "if len(np.unique(y)) == 2:\n",
    "    scoring = 'f1'  # 이진 분류: F1 Score\n",
    "    metric_name = 'F1 Score'\n",
    "else:\n",
    "    scoring = 'f1_weighted'  # 다중 분류: F1 Score (weighted)\n",
    "    metric_name = 'F1 Score (weighted)'\n",
    "\n",
    "for alpha in alphas:\n",
    "    nb = MultinomialNB(alpha=alpha)\n",
    "    nb.fit(train_X_multi, train_y)\n",
    "    \n",
    "    # 학습/검증 데이터 점수\n",
    "    train_scores.append(f1_score(train_y, nb.predict(train_X_multi), average='weighted' if len(np.unique(y)) > 2 else 'binary'))\n",
    "    valid_scores.append(f1_score(valid_y, nb.predict(valid_X_multi), average='weighted' if len(np.unique(y)) > 2 else 'binary'))\n",
    "    \n",
    "    # 교차검증\n",
    "    scores = cross_val_score(nb, X_multi, y, cv=5, scoring=scoring)\n",
    "    cv_scores.append(scores.mean())\n",
    "\n",
    "# 최적 alpha 찾기\n",
    "best_alpha_idx = np.argmax(cv_scores)\n",
    "best_alpha = alphas[best_alpha_idx]\n",
    "best_score = cv_scores[best_alpha_idx]\n",
    "\n",
    "print(f\"\\n최적 alpha: {best_alpha}\")\n",
    "print(f\"최고 CV {metric_name}: {best_score:.4f}\")"
   ]
  },
  {
   "cell_type": "code",
   "execution_count": null,
   "metadata": {},
   "outputs": [],
   "source": [
    "# 시각화\n",
    "plt.figure(figsize=(12, 6))\n",
    "plt.plot(alphas, train_scores, 'o-', label='Train', linewidth=2)\n",
    "plt.plot(alphas, valid_scores, 's-', label='Valid', linewidth=2)\n",
    "plt.plot(alphas, cv_scores, '^-', label='5-Fold CV', linewidth=2)\n",
    "plt.axvline(best_alpha, color='r', linestyle='--', label=f'Best alpha={best_alpha}')\n",
    "plt.xscale('log')\n",
    "plt.xlabel('alpha (Smoothing Parameter)', fontsize=12)\n",
    "plt.ylabel(metric_name, fontsize=12)\n",
    "plt.title('MultinomialNB Performance vs alpha', fontsize=14)\n",
    "plt.legend(fontsize=10)\n",
    "plt.grid(True, alpha=0.3)\n",
    "plt.tight_layout()\n",
    "plt.show()"
   ]
  },
  {
   "cell_type": "markdown",
   "metadata": {},
   "source": [
    "## 10. 최적 MultinomialNB 모델"
   ]
  },
  {
   "cell_type": "code",
   "execution_count": null,
   "metadata": {},
   "outputs": [],
   "source": [
    "print(\"=\"*60)\n",
    "print(f\"최적 MultinomialNB (alpha={best_alpha})\")\n",
    "print(\"=\"*60)\n",
    "\n",
    "nb_multi_best = MultinomialNB(alpha=best_alpha)\n",
    "nb_multi_best.fit(train_X_multi, train_y)\n",
    "\n",
    "# 예측\n",
    "pred_train_y = nb_multi_best.predict(train_X_multi)\n",
    "pred_valid_y = nb_multi_best.predict(valid_X_multi)\n",
    "\n",
    "print(\"\\n[학습 데이터 성과]\")\n",
    "if HAS_DMBA:\n",
    "    classificationSummary(train_y, pred_train_y, class_names=nb_multi_best.classes_)\n",
    "else:\n",
    "    print(f\"Accuracy:  {accuracy_score(train_y, pred_train_y):.4f}\")\n",
    "    print(f\"F1-Score:  {f1_score(train_y, pred_train_y, average='weighted' if len(np.unique(y)) > 2 else 'binary'):.4f}\")\n",
    "\n",
    "print(\"\\n[검증 데이터 성과]\")\n",
    "if HAS_DMBA:\n",
    "    classificationSummary(valid_y, pred_valid_y, class_names=nb_multi_best.classes_)\n",
    "else:\n",
    "    print(f\"Accuracy:  {accuracy_score(valid_y, pred_valid_y):.4f}\")\n",
    "    print(f\"F1-Score:  {f1_score(valid_y, pred_valid_y, average='weighted' if len(np.unique(y)) > 2 else 'binary'):.4f}\")"
   ]
  },
  {
   "cell_type": "code",
   "execution_count": null,
   "metadata": {},
   "outputs": [],
   "source": [
    "# 🎯 기출 대응: 모든 주요 지표 출력\n",
    "print(\"\\n\" + \"=\"*60)\n",
    "print(\"📊 최적 모델 교차검증 성과 (모든 지표)\")\n",
    "print(\"=\"*60)\n",
    "\n",
    "# Accuracy\n",
    "scores_acc_best = cross_val_score(nb_multi_best, X_multi, y, cv=5, scoring='accuracy')\n",
    "print(f\"\\n✅ 5-Fold CV Accuracy: {scores_acc_best.mean():.4f} (±{scores_acc_best.std():.4f})\")\n",
    "\n",
    "# F1 Score\n",
    "if len(np.unique(y)) == 2:\n",
    "    scores_f1_best = cross_val_score(nb_multi_best, X_multi, y, cv=5, scoring='f1')\n",
    "    print(f\"✅ 5-Fold CV F1 Score: {scores_f1_best.mean():.4f} (±{scores_f1_best.std():.4f})\")\n",
    "else:\n",
    "    scores_f1_best = cross_val_score(nb_multi_best, X_multi, y, cv=5, scoring='f1_weighted')\n",
    "    print(f\"✅ 5-Fold CV F1 Score (weighted): {scores_f1_best.mean():.4f} (±{scores_f1_best.std():.4f})\")\n",
    "\n",
    "# ROC AUC (이진 분류)\n",
    "if len(np.unique(y)) == 2:\n",
    "    scores_auc_best = cross_val_score(nb_multi_best, X_multi, y, cv=5, scoring='roc_auc')\n",
    "    print(f\"✅ 5-Fold CV ROC AUC: {scores_auc_best.mean():.4f} (±{scores_auc_best.std():.4f})\")"
   ]
  },
  {
   "cell_type": "markdown",
   "metadata": {},
   "source": [
    "## 11. 모델 비교 - MultinomialNB vs GaussianNB"
   ]
  },
  {
   "cell_type": "code",
   "execution_count": null,
   "metadata": {},
   "outputs": [],
   "source": [
    "print(\"=\"*60)\n",
    "print(\"🏆 모델 비교: MultinomialNB vs GaussianNB\")\n",
    "print(\"=\"*60)\n",
    "\n",
    "# MultinomialNB\n",
    "multi_acc = accuracy_score(valid_y, nb_multi_best.predict(valid_X_multi))\n",
    "multi_f1 = f1_score(valid_y, nb_multi_best.predict(valid_X_multi), average='weighted' if len(np.unique(y)) > 2 else 'binary')\n",
    "multi_cv_acc = scores_acc_best.mean()\n",
    "multi_cv_f1 = scores_f1_best.mean()\n",
    "\n",
    "# GaussianNB  \n",
    "gauss_acc = accuracy_score(valid_y, nb_gauss.predict(valid_X_gauss))\n",
    "gauss_f1 = f1_score(valid_y, nb_gauss.predict(valid_X_gauss), average='weighted' if len(np.unique(y)) > 2 else 'binary')\n",
    "gauss_cv_acc = scores_acc.mean()\n",
    "gauss_cv_f1 = scores_f1_gauss.mean()\n",
    "\n",
    "comparison_df = pd.DataFrame({\n",
    "    'Model': ['MultinomialNB', 'GaussianNB'],\n",
    "    'Valid Accuracy': [multi_acc, gauss_acc],\n",
    "    'Valid F1 Score': [multi_f1, gauss_f1],\n",
    "    '5-Fold CV Accuracy': [multi_cv_acc, gauss_cv_acc],\n",
    "    '5-Fold CV F1 Score': [multi_cv_f1, gauss_cv_f1]\n",
    "})\n",
    "\n",
    "# ROC AUC 추가 (이진 분류인 경우)\n",
    "if len(np.unique(y)) == 2:\n",
    "    multi_auc = roc_auc_score(valid_y, nb_multi_best.predict_proba(valid_X_multi)[:, 1])\n",
    "    gauss_auc = roc_auc_score(valid_y, nb_gauss.predict_proba(valid_X_gauss)[:, 1])\n",
    "    multi_cv_auc = scores_auc_best.mean()\n",
    "    gauss_cv_auc = scores_auc_gauss.mean()\n",
    "    \n",
    "    comparison_df['Valid ROC AUC'] = [multi_auc, gauss_auc]\n",
    "    comparison_df['5-Fold CV ROC AUC'] = [multi_cv_auc, gauss_cv_auc]\n",
    "\n",
    "print(\"\\n\", comparison_df.to_string(index=False))\n",
    "\n",
    "# 최고 성능 모델 (F1 Score 기준)\n",
    "if multi_cv_f1 > gauss_cv_f1:\n",
    "    print(f\"\\n✅ MultinomialNB가 더 우수 (CV F1 Score: {multi_cv_f1:.4f})\")\n",
    "    best_model = nb_multi_best\n",
    "    best_model_name = 'MultinomialNB'\n",
    "    best_valid_X = valid_X_multi\n",
    "else:\n",
    "    print(f\"\\n✅ GaussianNB가 더 우수 (CV F1 Score: {gauss_cv_f1:.4f})\")\n",
    "    best_model = nb_gauss\n",
    "    best_model_name = 'GaussianNB'\n",
    "    best_valid_X = valid_X_gauss"
   ]
  },
  {
   "cell_type": "markdown",
   "metadata": {},
   "source": [
    "## 12. 로지스틱 회귀와 비교 (문제에서 요구시)"
   ]
  },
  {
   "cell_type": "code",
   "execution_count": null,
   "metadata": {},
   "outputs": [],
   "source": [
    "# 로지스틱 회귀 모델\n",
    "logreg = LogisticRegression(random_state=42, solver='liblinear', max_iter=1000)\n",
    "\n",
    "# MultinomialNB와 같은 데이터로 학습\n",
    "scores_logreg_f1 = cross_val_score(logreg, X_multi, y, cv=5, scoring=scoring)\n",
    "\n",
    "print(f\"로지스틱 회귀 5-Fold CV {metric_name}: {scores_logreg_f1.mean():.4f}\")\n",
    "\n",
    "# 비교\n",
    "print(f\"\\n[모델 비교 - {metric_name}]\")\n",
    "print(f\"MultinomialNB: {multi_cv_f1:.4f}\")\n",
    "print(f\"GaussianNB:    {gauss_cv_f1:.4f}\")\n",
    "print(f\"로지스틱 회귀:  {scores_logreg_f1.mean():.4f}\")"
   ]
  },
  {
   "cell_type": "markdown",
   "metadata": {},
   "source": [
    "## 13. 최종 성과 및 시각화"
   ]
  },
  {
   "cell_type": "code",
   "execution_count": null,
   "metadata": {},
   "outputs": [],
   "source": [
    "# 이진 분류인 경우 ROC AUC 계산 및 시각화\n",
    "if len(np.unique(y)) == 2:\n",
    "    # MultinomialNB\n",
    "    multi_pred_prob = nb_multi_best.predict_proba(valid_X_multi)[:, 1]\n",
    "    multi_auc = roc_auc_score(valid_y, multi_pred_prob)\n",
    "    fpr_multi, tpr_multi, _ = roc_curve(valid_y, multi_pred_prob)\n",
    "    \n",
    "    # GaussianNB\n",
    "    gauss_pred_prob = nb_gauss.predict_proba(valid_X_gauss)[:, 1]\n",
    "    gauss_auc = roc_auc_score(valid_y, gauss_pred_prob)\n",
    "    fpr_gauss, tpr_gauss, _ = roc_curve(valid_y, gauss_pred_prob)\n",
    "    \n",
    "    # ROC 곡선\n",
    "    plt.figure(figsize=(10, 8))\n",
    "    plt.plot(fpr_multi, tpr_multi, color='blue', lw=2, \n",
    "             label=f'MultinomialNB (AUC = {multi_auc:.4f})')\n",
    "    plt.plot(fpr_gauss, tpr_gauss, color='green', lw=2,\n",
    "             label=f'GaussianNB (AUC = {gauss_auc:.4f})')\n",
    "    plt.plot([0, 1], [0, 1], color='navy', lw=2, linestyle='--')\n",
    "    plt.xlabel('False Positive Rate', fontsize=12)\n",
    "    plt.ylabel('True Positive Rate', fontsize=12)\n",
    "    plt.title('ROC Curve Comparison', fontsize=14)\n",
    "    plt.legend(loc=\"lower right\", fontsize=10)\n",
    "    plt.grid(True, alpha=0.3)\n",
    "    plt.tight_layout()\n",
    "    plt.show()\n",
    "    \n",
    "    print(f\"MultinomialNB ROC AUC (검증): {multi_auc:.4f}\")\n",
    "    print(f\"GaussianNB ROC AUC (검증): {gauss_auc:.4f}\")\n",
    "else:\n",
    "    print(\"다중 분류: ROC 곡선은 이진 분류에서만 사용됩니다.\")\n",
    "    print(\"대신 Confusion Matrix를 확인하세요.\")"
   ]
  },
  {
   "cell_type": "code",
   "execution_count": null,
   "metadata": {},
   "outputs": [],
   "source": [
    "# Confusion Matrix (최고 성능 모델)\n",
    "print(f\"\\n[Confusion Matrix - {best_model_name}]\")\n",
    "cm = confusion_matrix(valid_y, best_model.predict(best_valid_X))\n",
    "print(cm)\n",
    "\n",
    "# 시각화\n",
    "plt.figure(figsize=(6, 5))\n",
    "sns.heatmap(cm, annot=True, fmt='d', cmap='Blues')\n",
    "plt.title(f'Confusion Matrix - {best_model_name}')\n",
    "plt.ylabel('Actual')\n",
    "plt.xlabel('Predicted')\n",
    "plt.show()"
   ]
  },
  {
   "cell_type": "code",
   "execution_count": null,
   "metadata": {},
   "outputs": [],
   "source": [
    "# Classification Report (최고 성능 모델)\n",
    "print(f\"\\n[Classification Report - {best_model_name}]\")\n",
    "pred_y = best_model.predict(best_valid_X)\n",
    "print(classification_report(valid_y, pred_y))"
   ]
  },
  {
   "cell_type": "markdown",
   "metadata": {},
   "source": [
    "## 14. 최종 결과 요약 ✅"
   ]
  },
  {
   "cell_type": "code",
   "execution_count": null,
   "metadata": {},
   "outputs": [],
   "source": [
    "print(\"=\"*60)\n",
    "print(\"🎯 최종 결과 요약 (기출 대응 완료!)\")\n",
    "print(\"=\"*60)\n",
    "\n",
    "final_acc = accuracy_score(valid_y, best_model.predict(best_valid_X))\n",
    "final_f1 = f1_score(valid_y, best_model.predict(best_valid_X), average='weighted' if len(np.unique(y)) > 2 else 'binary')\n",
    "\n",
    "if best_model_name == 'MultinomialNB':\n",
    "    final_cv_acc = multi_cv_acc\n",
    "    final_cv_f1 = multi_cv_f1\n",
    "    print(f\"\"\"\n",
    "✅ 최종 선택 모델: MultinomialNB\n",
    "- 최적 alpha: {best_alpha}\n",
    "\n",
    "📊 검증 데이터 성과:\n",
    "- Accuracy:  {final_acc:.4f}\n",
    "- F1 Score:  {final_f1:.4f}\n",
    "\n",
    "📊 5-Fold CV 성과:\n",
    "- Accuracy:  {final_cv_acc:.4f}\n",
    "- F1 Score:  {final_cv_f1:.4f}\n",
    "\"\"\")\n",
    "else:\n",
    "    final_cv_acc = gauss_cv_acc\n",
    "    final_cv_f1 = gauss_cv_f1\n",
    "    print(f\"\"\"\n",
    "✅ 최종 선택 모델: GaussianNB\n",
    "\n",
    "📊 검증 데이터 성과:\n",
    "- Accuracy:  {final_acc:.4f}\n",
    "- F1 Score:  {final_f1:.4f}\n",
    "\n",
    "📊 5-Fold CV 성과:\n",
    "- Accuracy:  {final_cv_acc:.4f}\n",
    "- F1 Score:  {final_cv_f1:.4f}\n",
    "\"\"\")\n",
    "\n",
    "if len(np.unique(y)) == 2:\n",
    "    final_auc = roc_auc_score(valid_y, best_model.predict_proba(best_valid_X)[:, 1])\n",
    "    if best_model_name == 'MultinomialNB':\n",
    "        final_cv_auc = multi_cv_auc\n",
    "    else:\n",
    "        final_cv_auc = gauss_cv_auc\n",
    "    print(f\"- Valid ROC AUC: {final_auc:.4f}\")\n",
    "    print(f\"- 5-Fold CV ROC AUC: {final_cv_auc:.4f}\")\n",
    "\n",
    "print(\"\\n🎉 분석 완료! 모든 기출 유형 대응 완료!\")"
   ]
  }
 ],
 "metadata": {
  "kernelspec": {
   "display_name": "Python 3",
   "language": "python",
   "name": "python3"
  },
  "language_info": {
   "codemirror_mode": {
    "name": "ipython",
    "version": 3
   },
   "file_extension": ".py",
   "mimetype": "text/x-python",
   "name": "python",
   "nbconvert_exporter": "python",
   "pygments_lexer": "ipython3",
   "version": "3.8.0"
  }
 },
 "nbformat": 4,
 "nbformat_minor": 4
}
