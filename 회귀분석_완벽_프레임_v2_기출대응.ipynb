{
 "cells": [
  {
   "cell_type": "markdown",
   "metadata": {},
   "source": [
    "# 회귀분석 완벽 프레임 v2 - 시험용 🔥\n",
    "## 모든 기출 유형 대응! (RMSE, MAE, MAPE, MSE, R² 모두 포함)"
   ]
  },
  {
   "cell_type": "markdown",
   "metadata": {},
   "source": [
    "## 1. 필수 라이브러리 Import"
   ]
  },
  {
   "cell_type": "code",
   "execution_count": null,
   "metadata": {},
   "outputs": [],
   "source": [
    "import pandas as pd\n",
    "import numpy as np\n",
    "from sklearn.model_selection import train_test_split, cross_val_score, RandomizedSearchCV, GridSearchCV\n",
    "from sklearn.linear_model import LinearRegression, Ridge, Lasso, ElasticNet\n",
    "from sklearn.preprocessing import StandardScaler\n",
    "from sklearn.metrics import (\n",
    "    mean_squared_error, mean_absolute_error, r2_score,\n",
    "    mean_absolute_percentage_error  # MAPE\n",
    ")\n",
    "import matplotlib.pyplot as plt\n",
    "import seaborn as sns\n",
    "\n",
    "# dmba 라이브러리 (있으면)\n",
    "try:\n",
    "    from dmba import regressionSummary\n",
    "    HAS_DMBA = True\n",
    "except:\n",
    "    HAS_DMBA = False\n",
    "    print(\"dmba 라이브러리가 없습니다. sklearn metrics를 사용합니다.\")"
   ]
  },
  {
   "cell_type": "markdown",
   "metadata": {},
   "source": [
    "## 2. 데이터 로드 및 탐색"
   ]
  },
  {
   "cell_type": "code",
   "execution_count": null,
   "metadata": {},
   "outputs": [],
   "source": [
    "# 데이터 로드 (⭐ 파일명 수정 필수!)\n",
    "df = pd.read_csv('데이터파일.csv')\n",
    "\n",
    "print(\"[데이터 정보]\")\n",
    "df.info()\n",
    "\n",
    "print(\"\\n[결측치 확인]\")\n",
    "print(df.isnull().sum())\n",
    "\n",
    "print(\"\\n[데이터 샘플]\")\n",
    "print(df.head())"
   ]
  },
  {
   "cell_type": "code",
   "execution_count": null,
   "metadata": {},
   "outputs": [],
   "source": [
    "# 변수 타입 자동 분류\n",
    "print(\"[변수 타입 분류]\")\n",
    "categorical_cols = df.select_dtypes(include=['object', 'category']).columns.tolist()\n",
    "numerical_cols = df.select_dtypes(include=['int64', 'float64']).columns.tolist()\n",
    "\n",
    "print(f\"범주형 변수 ({len(categorical_cols)}개): {categorical_cols}\")\n",
    "print(f\"수치형 변수 ({len(numerical_cols)}개): {numerical_cols}\")"
   ]
  },
  {
   "cell_type": "code",
   "execution_count": null,
   "metadata": {},
   "outputs": [],
   "source": [
    "# 기초 통계량\n",
    "print(\"\\n[종속변수 기초 통계]\")\n",
    "print(df['종속변수명'].describe())  # ⭐ 종속변수명 수정!"
   ]
  },
  {
   "cell_type": "markdown",
   "metadata": {},
   "source": [
    "## 3. 데이터 전처리"
   ]
  },
  {
   "cell_type": "code",
   "execution_count": null,
   "metadata": {},
   "outputs": [],
   "source": [
    "# 결측치 처리 (필요시)\n",
    "# df = df.dropna()\n",
    "\n",
    "# 독립변수/종속변수 분리 (⭐ 여기 수정 필수!)\n",
    "outcome = '종속변수명'  # ← 종속변수 이름 (예: price, charges, streams)\n",
    "predictors = [col for col in df.columns \n",
    "              if col not in [outcome, '제외할변수1', '제외할변수2']]\n",
    "\n",
    "X = df[predictors]\n",
    "y = df[outcome]\n",
    "\n",
    "print(f\"독립변수 개수: {len(predictors)}\")\n",
    "print(f\"데이터 크기: {X.shape}\")"
   ]
  },
  {
   "cell_type": "code",
   "execution_count": null,
   "metadata": {},
   "outputs": [],
   "source": [
    "# 범주형 변수 원-핫 인코딩\n",
    "categorical_features = X.select_dtypes(include=['object', 'category']).columns.tolist()\n",
    "\n",
    "if len(categorical_features) > 0:\n",
    "    # 회귀분석은 drop_first=True 권장 (다중공선성 방지)\n",
    "    X = pd.get_dummies(X, columns=categorical_features, drop_first=True)\n",
    "    print(f\"\\n원-핫 인코딩 후 변수 개수: {X.shape[1]}\")\n",
    "    print(f\"변수 목록 (처음 10개): {X.columns.tolist()[:10]}\")"
   ]
  },
  {
   "cell_type": "markdown",
   "metadata": {},
   "source": [
    "## 4. 데이터 분리 (두 가지 방법)"
   ]
  },
  {
   "cell_type": "code",
   "execution_count": null,
   "metadata": {},
   "outputs": [],
   "source": [
    "# 방법 1: train_test_split 사용 (일반적)\n",
    "train_X, test_X, train_y, test_y = train_test_split(\n",
    "    X, y, test_size=0.2, random_state=1\n",
    ")\n",
    "\n",
    "print(f\"학습 데이터: {train_X.shape}\")\n",
    "print(f\"테스트 데이터: {test_X.shape}\")"
   ]
  },
  {
   "cell_type": "code",
   "execution_count": null,
   "metadata": {},
   "outputs": [],
   "source": [
    "# 방법 2: 인덱스 기반 분리 (기출문제 스타일)\n",
    "# 예: 2023년 문제 \"0~899번까지 학습, 나머지 테스트\"\n",
    "\n",
    "# train_X = X.iloc[:900]\n",
    "# train_y = y.iloc[:900]\n",
    "# test_X = X.iloc[900:]\n",
    "# test_y = y.iloc[900:]\n",
    "\n",
    "# print(f\"학습 데이터: {train_X.shape}\")\n",
    "# print(f\"테스트 데이터: {test_X.shape}\")"
   ]
  },
  {
   "cell_type": "markdown",
   "metadata": {},
   "source": [
    "## 5. 데이터 표준화 (Ridge/Lasso/ElasticNet용)"
   ]
  },
  {
   "cell_type": "code",
   "execution_count": null,
   "metadata": {},
   "outputs": [],
   "source": [
    "# 수치형 변수 표준화\n",
    "# Ridge/Lasso/ElasticNet은 표준화 필수!\n",
    "# Linear Regression은 선택사항 (기출에서는 보통 안 함)\n",
    "\n",
    "scaler = StandardScaler()\n",
    "\n",
    "# 표준화할 변수들 (수치형만)\n",
    "numerical_features = train_X.select_dtypes(include=['int64', 'float64']).columns.tolist()\n",
    "\n",
    "# 학습 데이터로 fit, 학습/테스트 모두 transform\n",
    "train_X_scaled = train_X.copy()\n",
    "test_X_scaled = test_X.copy()\n",
    "\n",
    "if len(numerical_features) > 0:\n",
    "    train_X_scaled[numerical_features] = scaler.fit_transform(train_X[numerical_features])\n",
    "    test_X_scaled[numerical_features] = scaler.transform(test_X[numerical_features])\n",
    "    print(f\"표준화 완료: {len(numerical_features)}개 변수\")\n",
    "else:\n",
    "    print(\"표준화할 수치형 변수가 없습니다.\")"
   ]
  },
  {
   "cell_type": "markdown",
   "metadata": {},
   "source": [
    "## 6. 평가 함수 정의 (⭐ 기출 대응!)"
   ]
  },
  {
   "cell_type": "code",
   "execution_count": null,
   "metadata": {},
   "outputs": [],
   "source": [
    "def evaluate_regression(y_true, y_pred, model_name=\"Model\"):\n",
    "    \"\"\"\n",
    "    회귀 모델 평가 - 모든 기출 지표 포함!\n",
    "    \n",
    "    기출 지표:\n",
    "    - RMSE: 2023년\n",
    "    - MAE: 2021년, 2022년\n",
    "    - MAPE: 2024년\n",
    "    - MSE: 2024년 (cross_val_score용)\n",
    "    - R²: 항상 유용\n",
    "    \"\"\"\n",
    "    rmse = np.sqrt(mean_squared_error(y_true, y_pred))\n",
    "    mae = mean_absolute_error(y_true, y_pred)\n",
    "    mape = mean_absolute_percentage_error(y_true, y_pred) * 100  # %로 표시\n",
    "    mse = mean_squared_error(y_true, y_pred)\n",
    "    r2 = r2_score(y_true, y_pred)\n",
    "    \n",
    "    print(f\"\\n{'='*60}\")\n",
    "    print(f\"📊 {model_name} 성과\")\n",
    "    print(f\"{'='*60}\")\n",
    "    print(f\"RMSE:  {rmse:>12,.4f}  ← 2023년 기출\")\n",
    "    print(f\"MAE:   {mae:>12,.4f}  ← 2021, 2022년 기출\")\n",
    "    print(f\"MAPE:  {mape:>12.2f}%  ← 2024년 기출\")\n",
    "    print(f\"MSE:   {mse:>12,.4f}  ← 2024년 기출 (CV용)\")\n",
    "    print(f\"R²:    {r2:>12.4f}\")\n",
    "    print(f\"{'='*60}\")\n",
    "    \n",
    "    return {'RMSE': rmse, 'MAE': mae, 'MAPE': mape, 'MSE': mse, 'R2': r2}"
   ]
  },
  {
   "cell_type": "markdown",
   "metadata": {},
   "source": [
    "## 7. 모델 학습 및 평가"
   ]
  },
  {
   "cell_type": "markdown",
   "metadata": {},
   "source": [
    "### 7-1. Linear Regression (선형회귀)"
   ]
  },
  {
   "cell_type": "code",
   "execution_count": null,
   "metadata": {},
   "outputs": [],
   "source": [
    "print(\"=\"*60)\n",
    "print(\"📊 1. Linear Regression (기본 선형회귀)\")\n",
    "print(\"=\"*60)\n",
    "\n",
    "# 모델 학습 (표준화 안 한 데이터 사용 - 기출 스타일)\n",
    "lr = LinearRegression()\n",
    "lr.fit(train_X, train_y)\n",
    "\n",
    "# 예측\n",
    "lr_pred_train = lr.predict(train_X)\n",
    "lr_pred_test = lr.predict(test_X)\n",
    "\n",
    "# 학습 데이터 성과\n",
    "print(\"\\n[학습 데이터 성과]\")\n",
    "if HAS_DMBA:\n",
    "    regressionSummary(train_y, lr_pred_train)\n",
    "else:\n",
    "    lr_train_results = evaluate_regression(train_y, lr_pred_train, \"Linear Regression - Train\")\n",
    "\n",
    "# 테스트 데이터 성과\n",
    "print(\"\\n[테스트 데이터 성과]\")\n",
    "if HAS_DMBA:\n",
    "    regressionSummary(test_y, lr_pred_test)\n",
    "else:\n",
    "    lr_test_results = evaluate_regression(test_y, lr_pred_test, \"Linear Regression - Test\")"
   ]
  },
  {
   "cell_type": "code",
   "execution_count": null,
   "metadata": {},
   "outputs": [],
   "source": [
    "# 회귀계수 확인\n",
    "print(\"\\n[회귀계수 Top 10]\")\n",
    "coef_df = pd.DataFrame({\n",
    "    'Variable': train_X.columns,\n",
    "    'Coefficient': lr.coef_\n",
    "}).sort_values('Coefficient', key=abs, ascending=False)\n",
    "\n",
    "print(coef_df.head(10).to_string(index=False))\n",
    "print(f\"\\nIntercept: {lr.intercept_:.4f}\")"
   ]
  },
  {
   "cell_type": "markdown",
   "metadata": {},
   "source": [
    "### 7-2. Ridge Regression (alpha 튜닝)"
   ]
  },
  {
   "cell_type": "code",
   "execution_count": null,
   "metadata": {},
   "outputs": [],
   "source": [
    "print(\"=\"*60)\n",
    "print(\"📊 2. Ridge Regression (L2 규제)\")\n",
    "print(\"=\"*60)\n",
    "\n",
    "# 하이퍼파라미터 튜닝 (RandomizedSearchCV)\n",
    "# 기출 스타일: np.linspace(0.0001, 1000, num=500)\n",
    "param_dist = {\n",
    "    'alpha': np.linspace(0.0001, 1000, num=500)\n",
    "}\n",
    "\n",
    "ridge = Ridge()\n",
    "\n",
    "# 기출에서 자주 쓰는 scoring 옵션들\n",
    "# MAE: neg_mean_absolute_error (2021, 2022)\n",
    "# MSE: neg_mean_squared_error (2024)\n",
    "# RMSE: neg_root_mean_squared_error\n",
    "\n",
    "random_search_ridge = RandomizedSearchCV(\n",
    "    ridge,\n",
    "    param_distributions=param_dist,\n",
    "    n_iter=200,  # 기출에서 자주 200번\n",
    "    cv=10,  # 10겹 교차검증\n",
    "    scoring='neg_mean_absolute_error',  # ← 기출 스타일: MAE\n",
    "    random_state=1,\n",
    "    n_jobs=-1\n",
    ")\n",
    "\n",
    "print(\"\\n⏳ Ridge 하이퍼파라미터 튜닝 중... (10-Fold CV, MAE)\")\n",
    "random_search_ridge.fit(train_X_scaled, train_y)\n",
    "\n",
    "print(f\"\\n✅ 최적 alpha: {random_search_ridge.best_params_['alpha']:.6f}\")\n",
    "print(f\"✅ 최고 CV MAE: {-random_search_ridge.best_score_:.4f}\")\n",
    "\n",
    "# 최적 모델로 예측\n",
    "ridge_best = random_search_ridge.best_estimator_\n",
    "ridge_pred_train = ridge_best.predict(train_X_scaled)\n",
    "ridge_pred_test = ridge_best.predict(test_X_scaled)\n",
    "\n",
    "# 테스트 데이터 성과\n",
    "print(\"\\n[테스트 데이터 성과]\")\n",
    "ridge_test_results = evaluate_regression(test_y, ridge_pred_test, \"Ridge Regression - Test\")"
   ]
  },
  {
   "cell_type": "markdown",
   "metadata": {},
   "source": [
    "### 7-3. Lasso Regression (alpha 튜닝)"
   ]
  },
  {
   "cell_type": "code",
   "execution_count": null,
   "metadata": {},
   "outputs": [],
   "source": [
    "print(\"=\"*60)\n",
    "print(\"📊 3. Lasso Regression (L1 규제)\")\n",
    "print(\"=\"*60)\n",
    "\n",
    "# 하이퍼파라미터 튜닝\n",
    "param_dist = {\n",
    "    'alpha': np.linspace(0.0001, 1000, num=500)\n",
    "}\n",
    "\n",
    "lasso = Lasso(max_iter=10000)  # 수렴을 위해 max_iter 증가\n",
    "\n",
    "random_search_lasso = RandomizedSearchCV(\n",
    "    lasso,\n",
    "    param_distributions=param_dist,\n",
    "    n_iter=200,\n",
    "    cv=10,\n",
    "    scoring='neg_mean_absolute_error',\n",
    "    random_state=1,\n",
    "    n_jobs=-1\n",
    ")\n",
    "\n",
    "print(\"\\n⏳ Lasso 하이퍼파라미터 튜닝 중... (10-Fold CV, MAE)\")\n",
    "random_search_lasso.fit(train_X_scaled, train_y)\n",
    "\n",
    "print(f\"\\n✅ 최적 alpha: {random_search_lasso.best_params_['alpha']:.6f}\")\n",
    "print(f\"✅ 최고 CV MAE: {-random_search_lasso.best_score_:.4f}\")\n",
    "\n",
    "# 최적 모델로 예측\n",
    "lasso_best = random_search_lasso.best_estimator_\n",
    "lasso_pred_train = lasso_best.predict(train_X_scaled)\n",
    "lasso_pred_test = lasso_best.predict(test_X_scaled)\n",
    "\n",
    "# 테스트 데이터 성과\n",
    "print(\"\\n[테스트 데이터 성과]\")\n",
    "lasso_test_results = evaluate_regression(test_y, lasso_pred_test, \"Lasso Regression - Test\")"
   ]
  },
  {
   "cell_type": "code",
   "execution_count": null,
   "metadata": {},
   "outputs": [],
   "source": [
    "# Lasso 변수 선택 결과\n",
    "print(\"\\n[Lasso 변수 선택 결과]\")\n",
    "lasso_coef = pd.DataFrame({\n",
    "    'Variable': train_X_scaled.columns,\n",
    "    'Coefficient': lasso_best.coef_\n",
    "})\n",
    "\n",
    "# 0이 아닌 계수만\n",
    "selected_vars = lasso_coef[lasso_coef['Coefficient'] != 0].sort_values('Coefficient', key=abs, ascending=False)\n",
    "print(f\"선택된 변수 개수: {len(selected_vars)} / {len(lasso_coef)}\")\n",
    "print(\"\\n선택된 변수 Top 10:\")\n",
    "print(selected_vars.head(10).to_string(index=False))"
   ]
  },
  {
   "cell_type": "markdown",
   "metadata": {},
   "source": [
    "### 7-4. ElasticNet Regression (alpha & l1_ratio 튜닝)"
   ]
  },
  {
   "cell_type": "code",
   "execution_count": null,
   "metadata": {},
   "outputs": [],
   "source": [
    "print(\"=\"*60)\n",
    "print(\"📊 4. ElasticNet Regression (L1 + L2 규제)\")\n",
    "print(\"=\"*60)\n",
    "\n",
    "# 하이퍼파라미터 튜닝 (alpha & l1_ratio 둘 다!)\n",
    "param_dist = {\n",
    "    'alpha': np.linspace(0.0001, 1000, num=500),\n",
    "    'l1_ratio': np.linspace(0, 1, num=500)  # 0: Ridge, 1: Lasso\n",
    "}\n",
    "\n",
    "elastic = ElasticNet(max_iter=10000)\n",
    "\n",
    "random_search_elastic = RandomizedSearchCV(\n",
    "    elastic,\n",
    "    param_distributions=param_dist,\n",
    "    n_iter=200,\n",
    "    cv=10,\n",
    "    scoring='neg_mean_absolute_error',\n",
    "    random_state=1,\n",
    "    n_jobs=-1\n",
    ")\n",
    "\n",
    "print(\"\\n⏳ ElasticNet 하이퍼파라미터 튜닝 중... (10-Fold CV, MAE)\")\n",
    "random_search_elastic.fit(train_X_scaled, train_y)\n",
    "\n",
    "print(f\"\\n✅ 최적 alpha: {random_search_elastic.best_params_['alpha']:.6f}\")\n",
    "print(f\"✅ 최적 l1_ratio: {random_search_elastic.best_params_['l1_ratio']:.6f}\")\n",
    "print(f\"✅ 최고 CV MAE: {-random_search_elastic.best_score_:.4f}\")\n",
    "\n",
    "# 최적 모델로 예측\n",
    "elastic_best = random_search_elastic.best_estimator_\n",
    "elastic_pred_train = elastic_best.predict(train_X_scaled)\n",
    "elastic_pred_test = elastic_best.predict(test_X_scaled)\n",
    "\n",
    "# 테스트 데이터 성과\n",
    "print(\"\\n[테스트 데이터 성과]\")\n",
    "elastic_test_results = evaluate_regression(test_y, elastic_pred_test, \"ElasticNet Regression - Test\")"
   ]
  },
  {
   "cell_type": "markdown",
   "metadata": {},
   "source": [
    "## 8. 전체 모델 성과 비교 ⭐"
   ]
  },
  {
   "cell_type": "code",
   "execution_count": null,
   "metadata": {},
   "outputs": [],
   "source": [
    "print(\"=\"*80)\n",
    "print(\"🏆 전체 모델 성과 비교 (테스트 데이터)\")\n",
    "print(\"=\"*80)\n",
    "\n",
    "comparison_df = pd.DataFrame({\n",
    "    'Model': ['Linear Regression', 'Ridge', 'Lasso', 'ElasticNet'],\n",
    "    'RMSE': [\n",
    "        lr_test_results['RMSE'],\n",
    "        ridge_test_results['RMSE'],\n",
    "        lasso_test_results['RMSE'],\n",
    "        elastic_test_results['RMSE']\n",
    "    ],\n",
    "    'MAE': [\n",
    "        lr_test_results['MAE'],\n",
    "        ridge_test_results['MAE'],\n",
    "        lasso_test_results['MAE'],\n",
    "        elastic_test_results['MAE']\n",
    "    ],\n",
    "    'MAPE (%)': [\n",
    "        lr_test_results['MAPE'],\n",
    "        ridge_test_results['MAPE'],\n",
    "        lasso_test_results['MAPE'],\n",
    "        elastic_test_results['MAPE']\n",
    "    ],\n",
    "    'MSE': [\n",
    "        lr_test_results['MSE'],\n",
    "        ridge_test_results['MSE'],\n",
    "        lasso_test_results['MSE'],\n",
    "        elastic_test_results['MSE']\n",
    "    ],\n",
    "    'R²': [\n",
    "        lr_test_results['R2'],\n",
    "        ridge_test_results['R2'],\n",
    "        lasso_test_results['R2'],\n",
    "        elastic_test_results['R2']\n",
    "    ]\n",
    "})\n",
    "\n",
    "print(\"\\n\", comparison_df.to_string(index=False))\n",
    "\n",
    "# 최고 성능 모델 (MAE 기준)\n",
    "best_model_idx = comparison_df['MAE'].idxmin()\n",
    "best_model_name = comparison_df.loc[best_model_idx, 'Model']\n",
    "best_mae = comparison_df.loc[best_model_idx, 'MAE']\n",
    "\n",
    "print(f\"\\n✅ 최고 성능 모델 (MAE 기준): {best_model_name} (MAE: {best_mae:.4f})\")"
   ]
  },
  {
   "cell_type": "code",
   "execution_count": null,
   "metadata": {},
   "outputs": [],
   "source": [
    "# 시각화\n",
    "fig, axes = plt.subplots(2, 2, figsize=(14, 10))\n",
    "\n",
    "metrics = ['RMSE', 'MAE', 'MAPE (%)', 'R²']\n",
    "colors = ['#FF6B6B', '#4ECDC4', '#45B7D1', '#96CEB4']\n",
    "\n",
    "for idx, (metric, color) in enumerate(zip(metrics, colors)):\n",
    "    ax = axes[idx // 2, idx % 2]\n",
    "    \n",
    "    if metric == 'R²':\n",
    "        # R²는 높을수록 좋음\n",
    "        bars = ax.barh(comparison_df['Model'], comparison_df[metric], color=color, alpha=0.7)\n",
    "        best_idx = comparison_df[metric].idxmax()\n",
    "    else:\n",
    "        # 나머지는 낮을수록 좋음\n",
    "        bars = ax.barh(comparison_df['Model'], comparison_df[metric], color=color, alpha=0.7)\n",
    "        best_idx = comparison_df[metric].idxmin()\n",
    "    \n",
    "    # 최고 성능 강조\n",
    "    bars[best_idx].set_alpha(1.0)\n",
    "    bars[best_idx].set_edgecolor('black')\n",
    "    bars[best_idx].set_linewidth(2)\n",
    "    \n",
    "    ax.set_xlabel(metric, fontsize=11, fontweight='bold')\n",
    "    ax.set_title(f'{metric} Comparison', fontsize=12, fontweight='bold')\n",
    "    ax.grid(axis='x', alpha=0.3)\n",
    "\n",
    "plt.tight_layout()\n",
    "plt.show()"
   ]
  },
  {
   "cell_type": "markdown",
   "metadata": {},
   "source": [
    "## 9. 교차검증 (5-Fold or 10-Fold) ⭐"
   ]
  },
  {
   "cell_type": "code",
   "execution_count": null,
   "metadata": {},
   "outputs": [],
   "source": [
    "print(\"=\"*80)\n",
    "print(\"📊 교차검증 성과 비교 (전체 데이터 사용)\")\n",
    "print(\"=\"*80)\n",
    "\n",
    "# 기출에서 자주 쓰는 평가 지표들\n",
    "scoring_metrics = {\n",
    "    'MAE': 'neg_mean_absolute_error',  # 2021, 2022\n",
    "    'MSE': 'neg_mean_squared_error',   # 2024\n",
    "    'RMSE': 'neg_root_mean_squared_error',  # 2023\n",
    "}\n",
    "\n",
    "models = {\n",
    "    'Linear Regression': LinearRegression(),\n",
    "    'Ridge': ridge_best,\n",
    "    'Lasso': lasso_best,\n",
    "    'ElasticNet': elastic_best\n",
    "}\n",
    "\n",
    "cv_results = []\n",
    "\n",
    "for model_name, model in models.items():\n",
    "    result = {'Model': model_name}\n",
    "    \n",
    "    # 데이터 선택 (Linear는 원본, 나머지는 표준화)\n",
    "    if model_name == 'Linear Regression':\n",
    "        X_use = X\n",
    "    else:\n",
    "        X_use = pd.DataFrame(\n",
    "            scaler.fit_transform(X[numerical_features]) if len(numerical_features) > 0 else X,\n",
    "            columns=X.columns\n",
    "        )\n",
    "    \n",
    "    # 각 평가 지표로 교차검증\n",
    "    for metric_name, scoring in scoring_metrics.items():\n",
    "        scores = cross_val_score(model, X_use, y, cv=5, scoring=scoring)\n",
    "        # negative를 positive로 변환\n",
    "        result[f'{metric_name} (5-Fold CV)'] = -scores.mean()\n",
    "        result[f'{metric_name} Std'] = scores.std()\n",
    "    \n",
    "    cv_results.append(result)\n",
    "\n",
    "cv_df = pd.DataFrame(cv_results)\n",
    "print(\"\\n[5-Fold Cross Validation 결과]\")\n",
    "print(cv_df.to_string(index=False))"
   ]
  },
  {
   "cell_type": "code",
   "execution_count": null,
   "metadata": {},
   "outputs": [],
   "source": [
    "# 🎯 기출 스타일: 특정 지표만 출력\n",
    "print(\"\\n\" + \"=\"*80)\n",
    "print(\"🎯 기출 형식 출력 (주요 지표만)\")\n",
    "print(\"=\"*80)\n",
    "\n",
    "for model_name in models.keys():\n",
    "    model_data = cv_df[cv_df['Model'] == model_name].iloc[0]\n",
    "    \n",
    "    print(f\"\\n{model_name}:\")\n",
    "    print(f\"  - 5-Fold CV MAE:  {model_data['MAE (5-Fold CV)']:.4f} (±{model_data['MAE Std']:.4f})\")\n",
    "    print(f\"  - 5-Fold CV RMSE: {model_data['RMSE (5-Fold CV)']:.4f} (±{model_data['RMSE Std']:.4f})\")\n",
    "    print(f\"  - 5-Fold CV MSE:  {model_data['MSE (5-Fold CV)']:.4f} (±{model_data['MSE Std']:.4f})\")"
   ]
  },
  {
   "cell_type": "markdown",
   "metadata": {},
   "source": [
    "## 10. 최종 결론 📝"
   ]
  },
  {
   "cell_type": "code",
   "execution_count": null,
   "metadata": {},
   "outputs": [],
   "source": [
    "print(\"=\"*80)\n",
    "print(\"🎯 최종 결론 (기출 대응 완료!)\")\n",
    "print(\"=\"*80)\n",
    "\n",
    "print(f\"\"\"\n",
    "✅ 분석 완료!\n",
    "\n",
    "📊 최고 성능 모델: {best_model_name}\n",
    "\n",
    "🎯 테스트 데이터 성과:\n",
    "   - RMSE: {comparison_df.loc[best_model_idx, 'RMSE']:.4f}  ← 2023년 기출 지표\n",
    "   - MAE:  {comparison_df.loc[best_model_idx, 'MAE']:.4f}  ← 2021, 2022년 기출 지표\n",
    "   - MAPE: {comparison_df.loc[best_model_idx, 'MAPE (%)']:.2f}%  ← 2024년 기출 지표\n",
    "   - MSE:  {comparison_df.loc[best_model_idx, 'MSE']:.4f}  ← 2024년 기출 지표 (CV용)\n",
    "   - R²:   {comparison_df.loc[best_model_idx, 'R²']:.4f}\n",
    "\n",
    "💡 하이퍼파라미터 튜닝 결과:\n",
    "   - Ridge 최적 alpha: {random_search_ridge.best_params_['alpha']:.6f}\n",
    "   - Lasso 최적 alpha: {random_search_lasso.best_params_['alpha']:.6f}\n",
    "   - ElasticNet 최적 alpha: {random_search_elastic.best_params_['alpha']:.6f}\n",
    "   - ElasticNet 최적 l1_ratio: {random_search_elastic.best_params_['l1_ratio']:.6f}\n",
    "\n",
    "🎉 모든 기출 유형 대응 완료!\n",
    "\"\"\")"
   ]
  }
 ],
 "metadata": {
  "kernelspec": {
   "display_name": "Python 3",
   "language": "python",
   "name": "python3"
  },
  "language_info": {
   "codemirror_mode": {
    "name": "ipython",
    "version": 3
   },
   "file_extension": ".py",
   "mimetype": "text/x-python",
   "name": "python",
   "nbconvert_exporter": "python",
   "pygments_lexer": "ipython3",
   "version": "3.8.0"
  }
 },
 "nbformat": 4,
 "nbformat_minor": 4
}
