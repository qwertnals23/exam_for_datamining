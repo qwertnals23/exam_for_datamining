{
 "cells": [
  {
   "cell_type": "markdown",
   "metadata": {},
   "source": [
    "# Chapter 6: Multiple Linear Regression\n",
    "\n",
    "> (c) 2019 Galit Shmueli, Peter C. Bruce, Peter Gedeck \n",
    ">\n",
    "> Code included in\n",
    ">\n",
    "> _Data Mining for Business Analytics: Concepts, Techniques, and Applications in Python_ (First Edition) \n",
    "> Galit Shmueli, Peter C. Bruce, Peter Gedeck, and Nitin R. Patel. 2019.\n",
    "\n",
    "## Import required packages"
   ]
  },
  {
   "cell_type": "code",
   "execution_count": 3,
   "metadata": {},
   "outputs": [
    {
     "name": "stdout",
     "output_type": "stream",
     "text": [
      "Requirement already satisfied: dmba in c:\\users\\admin\\anaconda3\\lib\\site-packages (0.2.4)\n",
      "Requirement already satisfied: graphviz in c:\\users\\admin\\anaconda3\\lib\\site-packages (from dmba) (0.21)\n",
      "Requirement already satisfied: matplotlib in c:\\users\\admin\\anaconda3\\lib\\site-packages (from dmba) (3.10.0)\n",
      "Requirement already satisfied: numpy in c:\\users\\admin\\anaconda3\\lib\\site-packages (from dmba) (2.1.3)\n",
      "Requirement already satisfied: pandas in c:\\users\\admin\\anaconda3\\lib\\site-packages (from dmba) (2.2.3)\n",
      "Requirement already satisfied: scikit-learn in c:\\users\\admin\\anaconda3\\lib\\site-packages (from dmba) (1.6.1)\n",
      "Requirement already satisfied: scipy in c:\\users\\admin\\anaconda3\\lib\\site-packages (from dmba) (1.15.3)\n",
      "Requirement already satisfied: contourpy>=1.0.1 in c:\\users\\admin\\anaconda3\\lib\\site-packages (from matplotlib->dmba) (1.3.1)\n",
      "Requirement already satisfied: cycler>=0.10 in c:\\users\\admin\\anaconda3\\lib\\site-packages (from matplotlib->dmba) (0.11.0)\n",
      "Requirement already satisfied: fonttools>=4.22.0 in c:\\users\\admin\\anaconda3\\lib\\site-packages (from matplotlib->dmba) (4.55.3)\n",
      "Requirement already satisfied: kiwisolver>=1.3.1 in c:\\users\\admin\\anaconda3\\lib\\site-packages (from matplotlib->dmba) (1.4.8)\n",
      "Requirement already satisfied: packaging>=20.0 in c:\\users\\admin\\anaconda3\\lib\\site-packages (from matplotlib->dmba) (24.2)\n",
      "Requirement already satisfied: pillow>=8 in c:\\users\\admin\\anaconda3\\lib\\site-packages (from matplotlib->dmba) (11.1.0)\n",
      "Requirement already satisfied: pyparsing>=2.3.1 in c:\\users\\admin\\anaconda3\\lib\\site-packages (from matplotlib->dmba) (3.2.0)\n",
      "Requirement already satisfied: python-dateutil>=2.7 in c:\\users\\admin\\anaconda3\\lib\\site-packages (from matplotlib->dmba) (2.9.0.post0)\n",
      "Requirement already satisfied: six>=1.5 in c:\\users\\admin\\anaconda3\\lib\\site-packages (from python-dateutil>=2.7->matplotlib->dmba) (1.17.0)\n",
      "Requirement already satisfied: pytz>=2020.1 in c:\\users\\admin\\anaconda3\\lib\\site-packages (from pandas->dmba) (2024.1)\n",
      "Requirement already satisfied: tzdata>=2022.7 in c:\\users\\admin\\anaconda3\\lib\\site-packages (from pandas->dmba) (2025.2)\n",
      "Requirement already satisfied: joblib>=1.2.0 in c:\\users\\admin\\anaconda3\\lib\\site-packages (from scikit-learn->dmba) (1.4.2)\n",
      "Requirement already satisfied: threadpoolctl>=3.1.0 in c:\\users\\admin\\anaconda3\\lib\\site-packages (from scikit-learn->dmba) (3.5.0)\n"
     ]
    }
   ],
   "source": [
    "!pip install dmba"
   ]
  },
  {
   "cell_type": "code",
   "execution_count": 4,
   "metadata": {},
   "outputs": [],
   "source": [
    "%matplotlib inline\n",
    "\n",
    "from pathlib import Path\n",
    "\n",
    "import pandas as pd\n",
    "import numpy as np\n",
    "from sklearn.model_selection import train_test_split\n",
    "from sklearn.linear_model import LinearRegression, Lasso, Ridge, LassoCV, BayesianRidge\n",
    "from sklearn.metrics import mean_squared_error, mean_absolute_error, r2_score\n",
    "import statsmodels.formula.api as sm\n",
    "# import matplotlib.pyplot as plt 만 했을때 no display .. agg로 설정되는 경우 아래 실행\n",
    "# import matplotlib\n",
    "# matplotlib.use('module://matplotlib_inline.backend_inline')\n",
    "\n",
    "import matplotlib.pyplot as plt\n",
    "\n",
    "from dmba import regressionSummary, exhaustive_search\n",
    "from dmba import backward_elimination, forward_selection, stepwise_selection\n",
    "from dmba import adjusted_r2_score, AIC_score, BIC_score"
   ]
  },
  {
   "cell_type": "markdown",
   "metadata": {},
   "source": [
    "## Table 6.3"
   ]
  },
  {
   "cell_type": "code",
   "execution_count": 6,
   "metadata": {},
   "outputs": [
    {
     "name": "stdout",
     "output_type": "stream",
     "text": [
      "intercept  -1319.3543800411662\n",
      "           Predictor  coefficient\n",
      "0          Age_08_04  -140.748761\n",
      "1                 KM    -0.017840\n",
      "2                 HP    36.103419\n",
      "3          Met_Color    84.281830\n",
      "4          Automatic   416.781954\n",
      "5                 CC     0.017737\n",
      "6              Doors   -50.657863\n",
      "7      Quarterly_Tax    13.625325\n",
      "8             Weight    13.038711\n",
      "9   Fuel_Type_Diesel  1066.464681\n",
      "10  Fuel_Type_Petrol  2310.249543\n",
      "\n",
      "Regression statistics\n",
      "\n",
      "                      Mean Error (ME) : -0.0000\n",
      "       Root Mean Squared Error (RMSE) : 1400.5823\n",
      "            Mean Absolute Error (MAE) : 1046.9072\n",
      "          Mean Percentage Error (MPE) : -1.0223\n",
      "Mean Absolute Percentage Error (MAPE) : 9.2994\n"
     ]
    }
   ],
   "source": [
    "# 데이터 프레임을 상위 1000개 행으로 줄이고 회귀 분석을 위해 열을 선택합니다.\n",
    "car_df = pd.read_csv('../data/ToyotaCorolla.csv')\n",
    "car_df = car_df.iloc[0:1000] #처음 1000개의 행(row)만 선택해서 다시 car_df로 저장하는 코드 -> 데이터가 너무 많을 때 연산 부담을 줄이기 위해/실습용·예제용 데이터 제한\n",
    "\n",
    "predictors = ['Age_08_04', 'KM', 'Fuel_Type', 'HP', 'Met_Color', 'Automatic', 'CC', \n",
    "              'Doors', 'Quarterly_Tax', 'Weight']\n",
    "outcome = 'Price'\n",
    "\n",
    "# partition data\n",
    "X = pd.get_dummies(car_df[predictors], drop_first=True) #첫 번째 더미 변수 열을 제거(drop) ,범주형 변수를 0/1 형태로 변환, drop_first=True는 첫 범주를 기준으로 제거, for 다중공선성 방지\n",
    "y = car_df[outcome]\n",
    "train_X, valid_X, train_y, valid_y = train_test_split(X, y, test_size=0.4, random_state=1)\n",
    "\n",
    "car_lm = LinearRegression()\n",
    "car_lm.fit(train_X, train_y)\n",
    "\n",
    "# print coefficients\n",
    "print('intercept ', car_lm.intercept_)\n",
    "print(pd.DataFrame({'Predictor': X.columns, 'coefficient': car_lm.coef_}))\n",
    "\n",
    "# print performance measures\n",
    "regressionSummary(train_y, car_lm.predict(train_X))"
   ]
  },
  {
   "cell_type": "code",
   "execution_count": 7,
   "metadata": {},
   "outputs": [
    {
     "name": "stdout",
     "output_type": "stream",
     "text": [
      "R-squared: 0.8564807391567311\n",
      "Adjusted R-squared: 0.8537958550253093\n",
      "AIC: 8717.572038486564\n",
      "BIC: 8770.335194349158\n"
     ]
    }
   ],
   "source": [
    "pred_y = car_lm.predict(train_X)\n",
    "\n",
    "# performance 계산\n",
    "n = len(train_y) #표본 수(행수)\n",
    "k = train_X.shape[1] #설명변수(특징) 개수\n",
    "\n",
    "# RSS (Residual Sum of Squares)\n",
    "rss = np.sum((train_y - pred_y) ** 2) #잔차(실제-예측)제곱합 (-> 작을 수록 모델이 학습데이터를 잘 맞춤)\n",
    "\n",
    "# R-squared\n",
    "r2 = r2_score(train_y, pred_y) \n",
    "\n",
    "# Adjusted R-squared\n",
    "adj_r2 = 1 - (1 - r2) * (n - 1) / (n - k - 1)\n",
    "\n",
    "# AIC\n",
    "aic = n * np.log(rss / n) + 2 * (k + 1)\n",
    "\n",
    "# BIC\n",
    "bic = n * np.log(rss / n) + np.log(n) * (k + 1)\n",
    "\n",
    "# 출력\n",
    "print('R-squared:', r2)\n",
    "print('Adjusted R-squared:', adj_r2)\n",
    "print('AIC:', aic)\n",
    "print('BIC:', bic)"
   ]
  },
  {
   "cell_type": "code",
   "execution_count": 11,
   "metadata": {},
   "outputs": [
    {
     "name": "stdout",
     "output_type": "stream",
     "text": [
      "R-squared: 0.8564807391567311\n",
      "adjusted r2 :  0.8537958550253093\n",
      "AIC :  10422.298278332171\n",
      "BIC :  10479.45836384998\n"
     ]
    }
   ],
   "source": [
    "pred_y = car_lm.predict(train_X)\n",
    "\n",
    "# 출력\n",
    "print('R-squared:', r2_score(train_y, pred_y))\n",
    "print('adjusted r2 : ', adjusted_r2_score(train_y, pred_y, car_lm))\n",
    "print('AIC : ', AIC_score(train_y, pred_y, car_lm))\n",
    "print('BIC : ', BIC_score(train_y, pred_y, car_lm))"
   ]
  },
  {
   "cell_type": "markdown",
   "metadata": {},
   "source": [
    "## Table 6.4"
   ]
  },
  {
   "cell_type": "code",
   "execution_count": 14,
   "metadata": {},
   "outputs": [
    {
     "name": "stdout",
     "output_type": "stream",
     "text": [
      "        Predicted  Actual     Residual\n",
      "507  10607.333940   11500   892.666060\n",
      "818   9272.705792    8950  -322.705792\n",
      "452  10617.947808   11450   832.052192\n",
      "368  13600.396275   11450 -2150.396275\n",
      "242  12396.694660   11950  -446.694660\n",
      "929   9496.498212    9995   498.501788\n",
      "262  12480.063217   13500  1019.936783\n",
      "810   8834.146068    7950  -884.146068\n",
      "318  12183.361282    9900 -2283.361282\n",
      "49   19206.965683   21950  2743.034317\n",
      "446  10987.498309   11950   962.501691\n",
      "142  18501.527375   19950  1448.472625\n",
      "968   9914.690947    9950    35.309053\n",
      "345  13827.299932   14950  1122.700068\n",
      "971   7966.732543   10495  2528.267457\n",
      "133  17185.242041   15950 -1235.242041\n",
      "104  19952.658062   19450  -502.658062\n",
      "6    16570.609280   16900   329.390720\n",
      "600  13739.409113   11250 -2489.409113\n",
      "496  11267.513740   11750   482.486260\n",
      "\n",
      "Regression statistics\n",
      "\n",
      "                      Mean Error (ME) : 103.6803\n",
      "       Root Mean Squared Error (RMSE) : 1312.8523\n",
      "            Mean Absolute Error (MAE) : 1017.5972\n",
      "          Mean Percentage Error (MPE) : -0.2633\n",
      "Mean Absolute Percentage Error (MAPE) : 9.0111\n"
     ]
    }
   ],
   "source": [
    "# Use predict() to make predictions on a new set\n",
    "car_lm_pred = car_lm.predict(valid_X)\n",
    "\n",
    "result = pd.DataFrame({'Predicted': car_lm_pred, 'Actual': valid_y,\n",
    "                       'Residual': valid_y - car_lm_pred})\n",
    "print(result.head(20))\n",
    "\n",
    "# Compute common accuracy measures\n",
    "regressionSummary(valid_y, car_lm_pred)"
   ]
  },
  {
   "cell_type": "markdown",
   "metadata": {},
   "source": [
    "## Figure 6.1\n",
    "Determine the residuals and create a histogram"
   ]
  },
  {
   "cell_type": "code",
   "execution_count": 15,
   "metadata": {},
   "outputs": [
    {
     "name": "stdout",
     "output_type": "stream",
     "text": [
      "0.7425\n"
     ]
    },
    {
     "data": {
      "image/png": "[encoded data removed]",
      "text/plain": [
       "<Figure size 640x480 with 1 Axes>"
      ]
     },
     "metadata": {},
     "output_type": "display_data"
    }
   ],
   "source": [
    "car_lm_pred = car_lm.predict(valid_X)\n",
    "all_residuals = valid_y - car_lm_pred\n",
    "\n",
    "# 오차가 [-1406, 1406] = 약 75\\%인 데이터 포인트의 백분율을 결정합니다.\n",
    "print(len(all_residuals[(all_residuals > -1406) & (all_residuals < 1406)]) / len(all_residuals))\n",
    "\n",
    "ax = pd.DataFrame({'Residuals': all_residuals}).hist(bins=25)\n",
    "\n",
    "plt.tight_layout()\n",
    "plt.show()"
   ]
  },
  {
   "cell_type": "markdown",
   "metadata": {},
   "source": [
    "## Table 6.5\n",
    "전체 검색을 실행합니다. 연료 유형 열은 범주형이므로 더미 변수로 변환해야 합니다."
   ]
  },
  {
   "cell_type": "code",
   "execution_count": 17,
   "metadata": {},
   "outputs": [
    {
     "name": "stdout",
     "output_type": "stream",
     "text": [
      "     n     r2adj           AIC  Age_08_04  Automatic     CC  Doors  Fuel_Type_Diesel  \\\n",
      "0    1  0.767901  10689.712094       True      False  False  False             False   \n",
      "1    2  0.801160  10597.910645       True      False  False  False             False   \n",
      "2    3  0.829659  10506.084235       True      False  False  False             False   \n",
      "3    4  0.846357  10445.174820       True      False  False  False             False   \n",
      "4    5  0.849044  10435.578836       True      False  False  False             False   \n",
      "5    6  0.853172  10419.932278       True      False  False  False             False   \n",
      "6    7  0.853860  10418.104025       True      False  False  False              True   \n",
      "7    8  0.854297  10417.290103       True       True  False  False              True   \n",
      "8    9  0.854172  10418.789079       True       True  False   True              True   \n",
      "9   10  0.854036  10420.330800       True       True  False   True              True   \n",
      "10  11  0.853796  10422.298278       True       True   True   True              True   \n",
      "\n",
      "    Fuel_Type_Petrol     HP     KM  Met_Color  Quarterly_Tax  Weight  \n",
      "0              False  False  False      False          False   False  \n",
      "1              False   True  False      False          False   False  \n",
      "2              False   True  False      False          False    True  \n",
      "3              False   True   True      False          False    True  \n",
      "4              False   True   True      False           True    True  \n",
      "5               True   True   True      False           True    True  \n",
      "6               True   True   True      False           True    True  \n",
      "7               True   True   True      False           True    True  \n",
      "8               True   True   True      False           True    True  \n",
      "9               True   True   True       True           True    True  \n",
      "10              True   True   True       True           True    True  \n"
     ]
    }
   ],
   "source": [
    "def train_model(variables):\n",
    "    model = LinearRegression()\n",
    "    model.fit(train_X[variables], train_y)\n",
    "    return model\n",
    "\n",
    "def score_model(model, variables):\n",
    "    pred_y = model.predict(train_X[variables])\n",
    "    # 점수가 가능한 한 낮게 최적화되어 있으므로 무효화합니다.\n",
    "    return -adjusted_r2_score(train_y, pred_y, model)\n",
    "\n",
    "allVariables = train_X.columns\n",
    "results = exhaustive_search(allVariables, train_model, score_model)\n",
    "\n",
    "data = []\n",
    "for result in results:\n",
    "    model = result['model']\n",
    "    variables = result['variables']\n",
    "    AIC = AIC_score(train_y, model.predict(train_X[variables]), model)\n",
    "    \n",
    "    d = {'n': result['n'], 'r2adj': -result['score'], 'AIC': AIC}\n",
    "    d.update({var: var in result['variables'] for var in allVariables})\n",
    "    data.append(d)\n",
    "pd.set_option('display.width', 100)\n",
    "print(pd.DataFrame(data, columns=('n', 'r2adj', 'AIC') + tuple(sorted(allVariables))))\n",
    "pd.reset_option('display.width')"
   ]
  },
  {
   "cell_type": "markdown",
   "metadata": {},
   "source": [
    "## Table 6.6 backward elimination"
   ]
  },
  {
   "cell_type": "code",
   "execution_count": 19,
   "metadata": {},
   "outputs": [
    {
     "name": "stdout",
     "output_type": "stream",
     "text": [
      "Variables: Age_08_04, KM, HP, Met_Color, Automatic, CC, Doors, Quarterly_Tax, Weight, Fuel_Type_Diesel, Fuel_Type_Petrol\n",
      "Start: score=10422.30\n",
      "Step: score=10420.33, remove CC\n",
      "Step: score=10418.79, remove Met_Color\n",
      "Step: score=10417.29, remove Doors\n",
      "Step: score=10417.29, remove None\n",
      "['Age_08_04', 'KM', 'HP', 'Automatic', 'Quarterly_Tax', 'Weight', 'Fuel_Type_Diesel', 'Fuel_Type_Petrol']\n"
     ]
    }
   ],
   "source": [
    "def train_model(variables):\n",
    "    model = LinearRegression()\n",
    "    model.fit(train_X[variables], train_y)\n",
    "    return model\n",
    "\n",
    "def score_model(model, variables):\n",
    "    return AIC_score(train_y, model.predict(train_X[variables]), model)\n",
    "\n",
    "best_model, best_variables = backward_elimination(train_X.columns, train_model, score_model, verbose=True)\n",
    "\n",
    "print(best_variables)"
   ]
  },
  {
   "cell_type": "code",
   "execution_count": 20,
   "metadata": {},
   "outputs": [
    {
     "name": "stdout",
     "output_type": "stream",
     "text": [
      "\n",
      "Regression statistics\n",
      "\n",
      "                      Mean Error (ME) : 103.3045\n",
      "       Root Mean Squared Error (RMSE) : 1314.4844\n",
      "            Mean Absolute Error (MAE) : 1016.8875\n",
      "          Mean Percentage Error (MPE) : -0.2700\n",
      "Mean Absolute Percentage Error (MAPE) : 8.9984\n"
     ]
    }
   ],
   "source": [
    "regressionSummary(valid_y, best_model.predict(valid_X[best_variables]))"
   ]
  },
  {
   "cell_type": "markdown",
   "metadata": {},
   "source": [
    "## Table 6.7 Forward selection"
   ]
  },
  {
   "cell_type": "code",
   "execution_count": 14,
   "metadata": {},
   "outputs": [
    {
     "name": "stdout",
     "output_type": "stream",
     "text": [
      "Variables: Age_08_04, KM, HP, Met_Color, Automatic, CC, Doors, Quarterly_Tax, Weight, Fuel_Type_Diesel, Fuel_Type_Petrol\n",
      "Start: score=11565.07, constant\n",
      "Step: score=10689.71, add Age_08_04\n",
      "Step: score=10597.91, add HP\n",
      "Step: score=10506.08, add Weight\n",
      "Step: score=10445.17, add KM\n",
      "Step: score=10435.58, add Quarterly_Tax\n",
      "Step: score=10419.93, add Fuel_Type_Petrol\n",
      "Step: score=10418.10, add Fuel_Type_Diesel\n",
      "Step: score=10417.29, add Automatic\n",
      "Step: score=10417.29, add None\n",
      "['Age_08_04', 'HP', 'Weight', 'KM', 'Quarterly_Tax', 'Fuel_Type_Petrol', 'Fuel_Type_Diesel', 'Automatic']\n"
     ]
    }
   ],
   "source": [
    "# The initial model is the constant model - this requires special handling\n",
    "# in train_model and score_model\n",
    "def train_model(variables):\n",
    "    if len(variables) == 0:\n",
    "        return None\n",
    "    model = LinearRegression()\n",
    "    model.fit(train_X[variables], train_y)\n",
    "    return model\n",
    "\n",
    "def score_model(model, variables):\n",
    "    if len(variables) == 0:\n",
    "        return AIC_score(train_y, [train_y.mean()] * len(train_y), model, df=1)\n",
    "    return AIC_score(train_y, model.predict(train_X[variables]), model)\n",
    "\n",
    "best_model, best_variables = forward_selection(train_X.columns, train_model, score_model, verbose=True)\n",
    "\n",
    "print(best_variables)"
   ]
  },
  {
   "cell_type": "code",
   "execution_count": 15,
   "metadata": {},
   "outputs": [
    {
     "name": "stdout",
     "output_type": "stream",
     "text": [
      "Variables: Age_08_04, KM, HP, Met_Color, Automatic, CC, Doors, Quarterly_Tax, Weight, Fuel_Type_Diesel, Fuel_Type_Petrol\n",
      "Start: score=11565.07, constant\n",
      "Step: score=10689.71, add Age_08_04\n",
      "Step: score=10597.91, add HP\n",
      "Step: score=10506.08, add Weight\n",
      "Step: score=10445.17, add KM\n",
      "Step: score=10435.58, add Quarterly_Tax\n",
      "Step: score=10419.93, add Fuel_Type_Petrol\n",
      "Step: score=10418.10, add Fuel_Type_Diesel\n",
      "Step: score=10417.29, add Automatic\n",
      "Step: score=10417.29, unchanged None\n",
      "['Age_08_04', 'HP', 'Weight', 'KM', 'Quarterly_Tax', 'Fuel_Type_Petrol', 'Fuel_Type_Diesel', 'Automatic']\n"
     ]
    }
   ],
   "source": [
    "best_model, best_variables = stepwise_selection(train_X.columns, train_model, score_model, verbose=True)\n",
    "\n",
    "print(best_variables)"
   ]
  },
  {
   "cell_type": "markdown",
   "metadata": {},
   "source": [
    "## Table XX regularized methods"
   ]
  },
  {
   "cell_type": "code",
   "execution_count": 21,
   "metadata": {},
   "outputs": [
    {
     "name": "stdout",
     "output_type": "stream",
     "text": [
      "\n",
      "Regression statistics\n",
      "\n",
      "                      Mean Error (ME) : 104.4168\n",
      "       Root Mean Squared Error (RMSE) : 1313.2944\n",
      "            Mean Absolute Error (MAE) : 1017.6609\n",
      "          Mean Percentage Error (MPE) : -0.2619\n",
      "Mean Absolute Percentage Error (MAPE) : 9.0100\n",
      "\n",
      "Regression statistics\n",
      "\n",
      "                      Mean Error (ME) : 132.4317\n",
      "       Root Mean Squared Error (RMSE) : 1360.7243\n",
      "            Mean Absolute Error (MAE) : 1034.4871\n",
      "          Mean Percentage Error (MPE) : -0.2610\n",
      "Mean Absolute Percentage Error (MAPE) : 9.1337\n",
      "Lasso-CV chosen regularization:  52.81252993972756\n",
      "[-2344.72733104  -638.64821716   509.86847033     0.\n",
      "    44.37403325     0.            -0.           299.72739261\n",
      "   757.83746697    -0.           188.03203033]\n",
      "\n",
      "Regression statistics\n",
      "\n",
      "                      Mean Error (ME) : 104.3792\n",
      "       Root Mean Squared Error (RMSE) : 1312.8865\n",
      "            Mean Absolute Error (MAE) : 1017.4566\n",
      "          Mean Percentage Error (MPE) : -0.2657\n",
      "Mean Absolute Percentage Error (MAPE) : 9.0074\n",
      "\n",
      "Regression statistics\n",
      "\n",
      "                      Mean Error (ME) : 105.5382\n",
      "       Root Mean Squared Error (RMSE) : 1313.0217\n",
      "            Mean Absolute Error (MAE) : 1017.2356\n",
      "          Mean Percentage Error (MPE) : -0.2703\n",
      "Mean Absolute Percentage Error (MAPE) : 9.0012\n",
      "Bayesian ridge chosen regularization:  2.773700064321386\n"
     ]
    }
   ],
   "source": [
    "from sklearn.preprocessing import StandardScaler\n",
    "from sklearn.linear_model import Lasso, LassoCV, Ridge, BayesianRidge\n",
    "from sklearn.metrics import mean_squared_error, r2_score\n",
    "import numpy as np\n",
    "\n",
    "# 1. 표준화\n",
    "scaler = StandardScaler()\n",
    "train_X_scaled = scaler.fit_transform(train_X)\n",
    "valid_X_scaled = scaler.transform(valid_X)\n",
    "\n",
    "# 2. Lasso\n",
    "lasso = Lasso(alpha=1)\n",
    "lasso.fit(train_X_scaled, train_y)\n",
    "regressionSummary(valid_y, lasso.predict(valid_X_scaled))\n",
    "\n",
    "# 3. LassoCV\n",
    "lasso_cv = LassoCV(cv=5)\n",
    "lasso_cv.fit(train_X_scaled, train_y)\n",
    "regressionSummary(valid_y, lasso_cv.predict(valid_X_scaled))\n",
    "print('Lasso-CV chosen regularization: ', lasso_cv.alpha_)\n",
    "print(lasso_cv.coef_)\n",
    "\n",
    "# 4. Ridge\n",
    "ridge = Ridge(alpha=1)\n",
    "ridge.fit(train_X_scaled, train_y)\n",
    "regressionSummary(valid_y, ridge.predict(valid_X_scaled))\n",
    "\n",
    "# 5. Bayesian Ridge\n",
    "bayesian_ridge = BayesianRidge()\n",
    "bayesian_ridge.fit(train_X_scaled, train_y)\n",
    "regressionSummary(valid_y, bayesian_ridge.predict(valid_X_scaled))\n",
    "print('Bayesian ridge chosen regularization: ', bayesian_ridge.lambda_ / bayesian_ridge.alpha_)\n"
   ]
  },
  {
   "cell_type": "code",
   "execution_count": 22,
   "metadata": {},
   "outputs": [
    {
     "name": "stdout",
     "output_type": "stream",
     "text": [
      "\n",
      "Regression statistics\n",
      "\n",
      "                      Mean Error (ME) : 103.6803\n",
      "       Root Mean Squared Error (RMSE) : 1312.8523\n",
      "            Mean Absolute Error (MAE) : 1017.5972\n",
      "          Mean Percentage Error (MPE) : -0.2633\n",
      "Mean Absolute Percentage Error (MAPE) : 9.0111\n"
     ]
    }
   ],
   "source": [
    "linearRegression = LinearRegression()\n",
    "linearRegression.fit(train_X_scaled, train_y)\n",
    "regressionSummary(valid_y, linearRegression.predict(valid_X_scaled))"
   ]
  },
  {
   "cell_type": "code",
   "execution_count": 23,
   "metadata": {},
   "outputs": [
    {
     "data": {
      "text/html": [
       "<div>\n",
       "<style scoped>\n",
       "    .dataframe tbody tr th:only-of-type {\n",
       "        vertical-align: middle;\n",
       "    }\n",
       "\n",
       "    .dataframe tbody tr th {\n",
       "        vertical-align: top;\n",
       "    }\n",
       "\n",
       "    .dataframe thead th {\n",
       "        text-align: right;\n",
       "    }\n",
       "</style>\n",
       "<table border=\"1\" class=\"dataframe\">\n",
       "  <thead>\n",
       "    <tr style=\"text-align: right;\">\n",
       "      <th></th>\n",
       "      <th>features</th>\n",
       "      <th>linear regression</th>\n",
       "      <th>lassoCV</th>\n",
       "      <th>bayesianRidge</th>\n",
       "    </tr>\n",
       "  </thead>\n",
       "  <tbody>\n",
       "    <tr>\n",
       "      <th>0</th>\n",
       "      <td>Age_08_04</td>\n",
       "      <td>-2346.564908</td>\n",
       "      <td>-2344.727331</td>\n",
       "      <td>-2329.981222</td>\n",
       "    </tr>\n",
       "    <tr>\n",
       "      <th>1</th>\n",
       "      <td>KM</td>\n",
       "      <td>-640.646815</td>\n",
       "      <td>-638.648217</td>\n",
       "      <td>-651.107146</td>\n",
       "    </tr>\n",
       "    <tr>\n",
       "      <th>2</th>\n",
       "      <td>HP</td>\n",
       "      <td>550.253745</td>\n",
       "      <td>509.868470</td>\n",
       "      <td>546.483948</td>\n",
       "    </tr>\n",
       "    <tr>\n",
       "      <th>3</th>\n",
       "      <td>Met_Color</td>\n",
       "      <td>39.094012</td>\n",
       "      <td>0.000000</td>\n",
       "      <td>39.468401</td>\n",
       "    </tr>\n",
       "    <tr>\n",
       "      <th>4</th>\n",
       "      <td>Automatic</td>\n",
       "      <td>96.361895</td>\n",
       "      <td>44.374033</td>\n",
       "      <td>94.470139</td>\n",
       "    </tr>\n",
       "    <tr>\n",
       "      <th>5</th>\n",
       "      <td>CC</td>\n",
       "      <td>10.966581</td>\n",
       "      <td>0.000000</td>\n",
       "      <td>12.616316</td>\n",
       "    </tr>\n",
       "    <tr>\n",
       "      <th>6</th>\n",
       "      <td>Doors</td>\n",
       "      <td>-47.961759</td>\n",
       "      <td>-0.000000</td>\n",
       "      <td>-45.367365</td>\n",
       "    </tr>\n",
       "    <tr>\n",
       "      <th>7</th>\n",
       "      <td>Quarterly_Tax</td>\n",
       "      <td>610.016332</td>\n",
       "      <td>299.727393</td>\n",
       "      <td>594.107204</td>\n",
       "    </tr>\n",
       "    <tr>\n",
       "      <th>8</th>\n",
       "      <td>Weight</td>\n",
       "      <td>770.715576</td>\n",
       "      <td>757.837467</td>\n",
       "      <td>775.190239</td>\n",
       "    </tr>\n",
       "    <tr>\n",
       "      <th>9</th>\n",
       "      <td>Fuel_Type_Diesel</td>\n",
       "      <td>358.655735</td>\n",
       "      <td>-0.000000</td>\n",
       "      <td>321.365335</td>\n",
       "    </tr>\n",
       "    <tr>\n",
       "      <th>10</th>\n",
       "      <td>Fuel_Type_Petrol</td>\n",
       "      <td>817.304630</td>\n",
       "      <td>188.032030</td>\n",
       "      <td>764.898852</td>\n",
       "    </tr>\n",
       "  </tbody>\n",
       "</table>\n",
       "</div>"
      ],
      "text/plain": [
       "            features  linear regression      lassoCV  bayesianRidge\n",
       "0          Age_08_04       -2346.564908 -2344.727331   -2329.981222\n",
       "1                 KM        -640.646815  -638.648217    -651.107146\n",
       "2                 HP         550.253745   509.868470     546.483948\n",
       "3          Met_Color          39.094012     0.000000      39.468401\n",
       "4          Automatic          96.361895    44.374033      94.470139\n",
       "5                 CC          10.966581     0.000000      12.616316\n",
       "6              Doors         -47.961759    -0.000000     -45.367365\n",
       "7      Quarterly_Tax         610.016332   299.727393     594.107204\n",
       "8             Weight         770.715576   757.837467     775.190239\n",
       "9   Fuel_Type_Diesel         358.655735    -0.000000     321.365335\n",
       "10  Fuel_Type_Petrol         817.304630   188.032030     764.898852"
      ]
     },
     "execution_count": 23,
     "metadata": {},
     "output_type": "execute_result"
    }
   ],
   "source": [
    "pd.DataFrame({'features': train_X.columns, 'linear regression': linearRegression.coef_, \n",
    "              'lassoCV': lasso_cv.coef_, 'bayesianRidge': bayesian_ridge.coef_})"
   ]
  },
  {
   "cell_type": "markdown",
   "metadata": {},
   "source": [
    "## Table 6.10"
   ]
  },
  {
   "cell_type": "code",
   "execution_count": 24,
   "metadata": {},
   "outputs": [
    {
     "name": "stdout",
     "output_type": "stream",
     "text": [
      "                            OLS Regression Results                            \n",
      "==============================================================================\n",
      "Dep. Variable:                  Price   R-squared:                       0.856\n",
      "Model:                            OLS   Adj. R-squared:                  0.854\n",
      "Method:                 Least Squares   F-statistic:                     319.0\n",
      "Date:                Tue, 14 Oct 2025   Prob (F-statistic):          1.73e-239\n",
      "Time:                        23:46:30   Log-Likelihood:                -5198.1\n",
      "No. Observations:                 600   AIC:                         1.042e+04\n",
      "Df Residuals:                     588   BIC:                         1.047e+04\n",
      "Df Model:                          11                                         \n",
      "Covariance Type:            nonrobust                                         \n",
      "============================================================================================\n",
      "                               coef    std err          t      P>|t|      [0.025      0.975]\n",
      "--------------------------------------------------------------------------------------------\n",
      "Intercept                -1319.3544   1728.427     -0.763      0.446   -4713.997    2075.288\n",
      "Fuel_Type_Diesel[T.True]  1066.4647    527.285      2.023      0.044      30.872    2102.057\n",
      "Fuel_Type_Petrol[T.True]  2310.2495    521.045      4.434      0.000    1286.914    3333.585\n",
      "Age_08_04                 -140.7488      5.142    -27.374      0.000    -150.847    -130.650\n",
      "KM                          -0.0178      0.002     -7.286      0.000      -0.023      -0.013\n",
      "HP                          36.1034      5.321      6.785      0.000      25.653      46.554\n",
      "Met_Color                   84.2818    127.005      0.664      0.507    -165.158     333.721\n",
      "Automatic                  416.7820    259.794      1.604      0.109     -93.454     927.018\n",
      "CC                           0.0177      0.099      0.179      0.858      -0.177       0.213\n",
      "Doors                      -50.6579     65.187     -0.777      0.437    -178.686      77.371\n",
      "Quarterly_Tax               13.6253      2.518      5.411      0.000       8.680      18.571\n",
      "Weight                      13.0387      1.602      8.140      0.000       9.893      16.185\n",
      "==============================================================================\n",
      "Omnibus:                       62.422   Durbin-Watson:                   1.899\n",
      "Prob(Omnibus):                  0.000   Jarque-Bera (JB):              366.046\n",
      "Skew:                           0.186   Prob(JB):                     3.27e-80\n",
      "Kurtosis:                       6.808   Cond. No.                     2.20e+06\n",
      "==============================================================================\n",
      "\n",
      "Notes:\n",
      "[1] Standard Errors assume that the covariance matrix of the errors is correctly specified.\n",
      "[2] The condition number is large, 2.2e+06. This might indicate that there are\n",
      "strong multicollinearity or other numerical problems.\n"
     ]
    }
   ],
   "source": [
    "# run a linear regression of Price on the remaining 11 predictors in the training set\n",
    "train_df = train_X.join(train_y)\n",
    "\n",
    "predictors = train_X.columns\n",
    "formula = 'Price ~ ' + ' + '.join(predictors)\n",
    "\n",
    "car_lm = sm.ols(formula=formula, data=train_df).fit()\n",
    "print(car_lm.summary())"
   ]
  }
 ],
 "metadata": {
  "kernelspec": {
   "display_name": "Python [conda env:base] *",
   "language": "python",
   "name": "conda-base-py"
  },
  "language_info": {
   "codemirror_mode": {
    "name": "ipython",
    "version": 3
   },
   "file_extension": ".py",
   "mimetype": "text/x-python",
   "name": "python",
   "nbconvert_exporter": "python",
   "pygments_lexer": "ipython3",
   "version": "3.13.5"
  }
 },
 "nbformat": 4,
 "nbformat_minor": 4
}
